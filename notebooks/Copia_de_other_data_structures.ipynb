{
  "cells": [
    {
      "cell_type": "markdown",
      "metadata": {
        "id": "view-in-github",
        "colab_type": "text"
      },
      "source": [
        "<a href=\"https://colab.research.google.com/github/critobfer/CURSO-PYTHON/blob/main/notebooks/Copia_de_other_data_structures.ipynb\" target=\"_parent\"><img src=\"https://colab.research.google.com/assets/colab-badge.svg\" alt=\"Open In Colab\"/></a>"
      ]
    },
    {
      "cell_type": "markdown",
      "metadata": {
        "id": "5Qy9Hf6aAycF"
      },
      "source": [
        "# Otras estructuras de datos\n",
        "\n",
        "Hasta ahora hemos introducido las listas de Python como estructura que nos permite manipular conjutos de datos. En esta sección veremos otras estructuras de datos e investigaremos cúando es conveniente usar cada una, en concreto vamos a ver\n",
        "- tuplas \n",
        "- diccionarios \n",
        "- conjuntos\n",
        "- generadores"
      ]
    },
    {
      "cell_type": "markdown",
      "metadata": {
        "id": "qp6SVDFyAycH"
      },
      "source": [
        "---\n",
        "## Tuplas\n",
        "\n",
        "Las **tuplas** son similares a las listas en el sentido de que nos permiten guardar un número arbitrario de objetos y acceder a los mismos mediante índices, es decir, son objetos secuenciales. Para definir una tupla utilizamos paréntesis `()`"
      ]
    },
    {
      "cell_type": "code",
      "execution_count": null,
      "metadata": {
        "id": "TzyxVYM3Eugo"
      },
      "outputs": [],
      "source": [
        "foo = (1, \"b\")"
      ]
    },
    {
      "cell_type": "markdown",
      "metadata": {
        "id": "iorYGy1OEx7W"
      },
      "source": [
        "Al igual que con las listas, podemos incluir expresiones que se evaluarán antes de formar la tupla"
      ]
    },
    {
      "cell_type": "code",
      "execution_count": null,
      "metadata": {
        "id": "phYnOtUHE5ZJ"
      },
      "outputs": [],
      "source": [
        "bar = (1 is None, \"fjkdsljfd\".islower(), 2 in [1, 4, 5, 3])"
      ]
    },
    {
      "cell_type": "code",
      "execution_count": null,
      "metadata": {
        "colab": {
          "base_uri": "https://localhost:8080/"
        },
        "id": "eZeDF6Q1HLGa",
        "outputId": "d6158b34-8a15-4451-ab7f-0ca6bf6b9c5c"
      },
      "outputs": [
        {
          "data": {
            "text/plain": [
              "(False, True, False)"
            ]
          },
          "execution_count": 10,
          "metadata": {},
          "output_type": "execute_result"
        }
      ],
      "source": [
        "bar"
      ]
    },
    {
      "cell_type": "code",
      "execution_count": null,
      "metadata": {
        "colab": {
          "base_uri": "https://localhost:8080/"
        },
        "id": "6e91M95sG-Uc",
        "outputId": "114a33be-9830-424d-a45c-66c053f3d615"
      },
      "outputs": [
        {
          "data": {
            "text/plain": [
              "True"
            ]
          },
          "execution_count": 8,
          "metadata": {},
          "output_type": "execute_result"
        }
      ],
      "source": [
        "isinstance(bar, tuple)"
      ]
    },
    {
      "cell_type": "code",
      "execution_count": null,
      "metadata": {
        "colab": {
          "base_uri": "https://localhost:8080/"
        },
        "id": "U0Qv32CIHIO5",
        "outputId": "d9137c02-18de-4fc4-d8b8-fda6df88fc68"
      },
      "outputs": [
        {
          "data": {
            "text/plain": [
              "tuple"
            ]
          },
          "execution_count": 9,
          "metadata": {},
          "output_type": "execute_result"
        }
      ],
      "source": [
        "type(foo)"
      ]
    },
    {
      "cell_type": "markdown",
      "metadata": {
        "id": "0XA_SlzvHJkP"
      },
      "source": [
        "Las tuplas son utilizadas para guardar una colección de datos en una estructura simple e **inmutable**, es decir, no podremos modificarlas una vez sean creadas: ni reemplezar, añadir o borrar sus elementos. Dicho de otro modo, es un único objeto formado por distintas partes más que una colección de distintos objetos como una lista. "
      ]
    },
    {
      "cell_type": "markdown",
      "metadata": {
        "id": "j2IPUI18J2Gi"
      },
      "source": [
        ":::{exercise}\n",
        ":label: other-data-structures-tuples-inmmutable\n",
        "\n",
        "¿Qué error obtenemos al intentar modificar un objeto de una tupla?\n",
        "\n",
        ":::"
      ]
    },
    {
      "cell_type": "code",
      "source": [
        "foo = (1, \"b\")\n",
        "foo[0] = 2 #TypeError: 'tuple' object does not support item assignment"
      ],
      "metadata": {
        "colab": {
          "base_uri": "https://localhost:8080/",
          "height": 182
        },
        "id": "6ecuMIa69l0F",
        "outputId": "43f67aac-b39b-4ade-d9ef-51611a3a0c20"
      },
      "execution_count": null,
      "outputs": [
        {
          "output_type": "error",
          "ename": "TypeError",
          "evalue": "ignored",
          "traceback": [
            "\u001b[0;31m---------------------------------------------------------------------------\u001b[0m",
            "\u001b[0;31mTypeError\u001b[0m                                 Traceback (most recent call last)",
            "\u001b[0;32m<ipython-input-1-aef18c5f6901>\u001b[0m in \u001b[0;36m<module>\u001b[0;34m\u001b[0m\n\u001b[1;32m      1\u001b[0m \u001b[0mfoo\u001b[0m \u001b[0;34m=\u001b[0m \u001b[0;34m(\u001b[0m\u001b[0;36m1\u001b[0m\u001b[0;34m,\u001b[0m \u001b[0;34m\"b\"\u001b[0m\u001b[0;34m)\u001b[0m\u001b[0;34m\u001b[0m\u001b[0;34m\u001b[0m\u001b[0m\n\u001b[0;32m----> 2\u001b[0;31m \u001b[0mfoo\u001b[0m\u001b[0;34m[\u001b[0m\u001b[0;36m0\u001b[0m\u001b[0;34m]\u001b[0m \u001b[0;34m=\u001b[0m \u001b[0;36m2\u001b[0m\u001b[0;34m\u001b[0m\u001b[0;34m\u001b[0m\u001b[0m\n\u001b[0m",
            "\u001b[0;31mTypeError\u001b[0m: 'tuple' object does not support item assignment"
          ]
        }
      ]
    },
    {
      "cell_type": "markdown",
      "metadata": {
        "id": "5T6SKgXIKp2p"
      },
      "source": [
        ":::{exercise}\n",
        ":label: other-data-structures-tuples-inmmutable-2\n",
        "\n",
        "Las tuplas son objetos inmutables pero, ¿pueden los objetos que forman la tupla ser mutables? \n",
        "\n",
        ":::"
      ]
    },
    {
      "cell_type": "markdown",
      "metadata": {
        "id": "UejKhQ7eJwCv"
      },
      "source": [
        "Por consistencia, existen las tuplas de longitud 0 y 1"
      ]
    },
    {
      "cell_type": "code",
      "execution_count": null,
      "metadata": {
        "id": "zGQHMCsUIV4y"
      },
      "outputs": [],
      "source": [
        "zero_tuple = ()\n",
        "one_tuple = (5,) # notemos la coma ==>SIN COMA SE CONVIERTE EN INT IMPORTANTE PARA LAS LIBRERIAS"
      ]
    },
    {
      "cell_type": "markdown",
      "metadata": {
        "id": "xEHmnu_ZIoiT"
      },
      "source": [
        "Aunque podemos utilizar índices numéricos para acceder a los elementos de la tupla, es más común *deshacer* la tupla en variables "
      ]
    },
    {
      "cell_type": "code",
      "source": [],
      "metadata": {
        "id": "VbxhVaUE-4yf"
      },
      "execution_count": null,
      "outputs": []
    },
    {
      "cell_type": "code",
      "execution_count": null,
      "metadata": {
        "id": "VSxQSpTdJBUr"
      },
      "outputs": [],
      "source": [
        "holding = ('GOOG', 100, 490.10)\n",
        "address = ('www.python.org', 80)\n",
        "\n",
        "name, shares, price = holding\n",
        "host, port = address"
      ]
    },
    {
      "cell_type": "markdown",
      "metadata": {
        "id": "o8sP6UD-JP-p"
      },
      "source": [
        "> Esta misma sintaxis se puede utilizar para hacer varias asignaciones a la vez\n",
        "```\n",
        "a, b = 1, None  ## POR DENTRO COMPARA TUPLAS\n",
        "```"
      ]
    },
    {
      "cell_type": "code",
      "execution_count": null,
      "metadata": {
        "colab": {
          "base_uri": "https://localhost:8080/"
        },
        "id": "1cebfsg3LfJ0",
        "outputId": "2b903e5c-3960-4e03-d4a3-5bd5dff3d0fa"
      },
      "outputs": [
        {
          "output_type": "execute_result",
          "data": {
            "text/plain": [
              "True"
            ]
          },
          "metadata": {},
          "execution_count": 2
        }
      ],
      "source": [
        "isinstance(1, (bool, int))"
      ]
    },
    {
      "cell_type": "markdown",
      "metadata": {
        "id": "n6iYQq0buBKO"
      },
      "source": [
        "---\n",
        "## Trabajando con secuencias \n",
        "\n",
        "Ya hemos visto tres tipos secuenciales: cadenas, listas y tuplas. Vamos a dedicar un apartado a repasar las principales operaciones que podemos realizar con objetos secuenciales"
      ]
    },
    {
      "cell_type": "markdown",
      "metadata": {
        "id": "qqaRsi9QVzdr"
      },
      "source": [
        "### Comprobar pertenencia \n",
        "\n",
        "Lo haremos a través del operador `in` y su negación `not in`"
      ]
    },
    {
      "cell_type": "code",
      "execution_count": null,
      "metadata": {
        "colab": {
          "base_uri": "https://localhost:8080/"
        },
        "id": "DnpPu_gzbqoy",
        "outputId": "9d682ac1-f8ce-466d-d8a6-d4b95fca12bf"
      },
      "outputs": [
        {
          "output_type": "execute_result",
          "data": {
            "text/plain": [
              "True"
            ]
          },
          "metadata": {},
          "execution_count": 18
        }
      ],
      "source": [
        "# con tuplas\n",
        "x = (1, 3, 5)\n",
        "3 in x"
      ]
    },
    {
      "cell_type": "code",
      "execution_count": null,
      "metadata": {
        "colab": {
          "base_uri": "https://localhost:8080/"
        },
        "id": "9Yp2slFtbuK3",
        "outputId": "db13c7a9-8e26-444b-b2d5-1a9badff041a"
      },
      "outputs": [
        {
          "output_type": "execute_result",
          "data": {
            "text/plain": [
              "True"
            ]
          },
          "metadata": {},
          "execution_count": 19
        }
      ],
      "source": [
        "# con cadenas \n",
        "\"cat\" in \"the cat in the hat\"\n",
        "True"
      ]
    },
    {
      "cell_type": "code",
      "execution_count": null,
      "metadata": {
        "colab": {
          "base_uri": "https://localhost:8080/"
        },
        "id": "J-D4n36Vbu3X",
        "outputId": "066d0cb5-99a6-413f-8bd0-6ad62256ee50"
      },
      "outputs": [
        {
          "output_type": "execute_result",
          "data": {
            "text/plain": [
              "False"
            ]
          },
          "metadata": {},
          "execution_count": 20
        }
      ],
      "source": [
        "# con listas \n",
        "[1, 2] in [1, 2, 3, 4]"
      ]
    },
    {
      "cell_type": "code",
      "execution_count": null,
      "metadata": {
        "colab": {
          "base_uri": "https://localhost:8080/"
        },
        "id": "QTyKqljhbvCp",
        "outputId": "e2aad09f-3471-491b-fa0f-620a33ba74dd"
      },
      "outputs": [
        {
          "output_type": "execute_result",
          "data": {
            "text/plain": [
              "True"
            ]
          },
          "metadata": {},
          "execution_count": 21
        }
      ],
      "source": [
        "[1, 2] in [None, [1, 2], None]"
      ]
    },
    {
      "cell_type": "markdown",
      "metadata": {
        "id": "sYdiU8Dgcn4i"
      },
      "source": [
        "### Obtener el índice de la primera instancia de un objeto\n",
        "\n",
        "Mediante el método `index`"
      ]
    },
    {
      "cell_type": "code",
      "execution_count": null,
      "metadata": {
        "colab": {
          "base_uri": "https://localhost:8080/"
        },
        "id": "ibtwoPxc8jVZ",
        "outputId": "7406dc62-02e6-40f3-c236-7dbdd226915a"
      },
      "outputs": [
        {
          "output_type": "execute_result",
          "data": {
            "text/plain": [
              "4"
            ]
          },
          "metadata": {},
          "execution_count": 22
        }
      ],
      "source": [
        "\"cat cat cat\".index(\"cat\") #0  # En qué posicion empieza cat por primera vez\n",
        "\"rft cat cat\".index(\"cat\") #4"
      ]
    },
    {
      "cell_type": "code",
      "execution_count": null,
      "metadata": {
        "colab": {
          "base_uri": "https://localhost:8080/"
        },
        "id": "op2BAXzk8nSJ",
        "outputId": "629d8773-e198-43f0-cf53-decafe0f3dfb"
      },
      "outputs": [
        {
          "output_type": "execute_result",
          "data": {
            "text/plain": [
              "2"
            ]
          },
          "metadata": {},
          "execution_count": 25
        }
      ],
      "source": [
        "# [1, 2, \"moo\"].index(\"m\") # ValueError: 'm' is not in list\n",
        "[1, 2, \"moo\"].index(\"moo\") "
      ]
    },
    {
      "cell_type": "markdown",
      "metadata": {
        "id": "2XNbpVTp8q0W"
      },
      "source": [
        "### Contar el número de ocurrencias \n",
        "\n",
        "Utilizaremos el método `count`"
      ]
    },
    {
      "cell_type": "code",
      "execution_count": null,
      "metadata": {
        "colab": {
          "base_uri": "https://localhost:8080/"
        },
        "id": "0dLhZxSI9G-4",
        "outputId": "a65e3726-f129-4d67-a0e5-a295f5427003"
      },
      "outputs": [
        {
          "output_type": "execute_result",
          "data": {
            "text/plain": [
              "3"
            ]
          },
          "metadata": {},
          "execution_count": 26
        }
      ],
      "source": [
        "\"the cat in the hat\".count(\"h\")"
      ]
    },
    {
      "cell_type": "markdown",
      "metadata": {
        "id": "ice9QAxC9HWQ"
      },
      "source": [
        "### Indexado y *slicing*\n",
        "\n",
        "Como ya hemos visto, podemos acceder a objetos individuales utilizando in índice entero que empieza en cero. Este índice puede ser negativo si queremos buscar desde el final de la secuencia "
      ]
    },
    {
      "cell_type": "code",
      "execution_count": null,
      "metadata": {
        "colab": {
          "base_uri": "https://localhost:8080/"
        },
        "id": "h_7xYiLl-GMU",
        "outputId": "be1a154c-4843-4ab9-f7e3-9bdfc897d565"
      },
      "outputs": [
        {
          "output_type": "execute_result",
          "data": {
            "text/plain": [
              "21"
            ]
          },
          "metadata": {},
          "execution_count": 27
        }
      ],
      "source": [
        "l = [1, 1, 2, 3, 5, 8, 13, 21]\n",
        "l[-1]"
      ]
    },
    {
      "cell_type": "markdown",
      "metadata": {
        "id": "ncPiY70Q91g3"
      },
      "source": [
        "Podemos ir más allá y pedir un subconjunto de la sucencia con las operaciones de *slicing*, cuya sintaxis básica es `seq[start:stop:step]`"
      ]
    },
    {
      "cell_type": "code",
      "execution_count": null,
      "metadata": {
        "colab": {
          "base_uri": "https://localhost:8080/",
          "height": 35
        },
        "id": "nzWyrFd0-bDH",
        "outputId": "c1b6eb3c-a9dd-437e-cc90-409f64255590"
      },
      "outputs": [
        {
          "output_type": "execute_result",
          "data": {
            "text/plain": [
              "'bcd'"
            ],
            "application/vnd.google.colaboratory.intrinsic+json": {
              "type": "string"
            }
          },
          "metadata": {},
          "execution_count": 29
        }
      ],
      "source": [
        "seq = \"abcdefg\"\n",
        "seq[0:4:1] # me coje 0,1,2,3(4-1)\n",
        "seq[1:4:1] # me coje 1,2,3"
      ]
    },
    {
      "cell_type": "code",
      "execution_count": null,
      "metadata": {
        "colab": {
          "base_uri": "https://localhost:8080/",
          "height": 35
        },
        "id": "_NsAayt-_Cq8",
        "outputId": "47e339c1-05a7-4f0e-9d3b-43a6e7cb80b9"
      },
      "outputs": [
        {
          "output_type": "execute_result",
          "data": {
            "text/plain": [
              "'aceg'"
            ],
            "application/vnd.google.colaboratory.intrinsic+json": {
              "type": "string"
            }
          },
          "metadata": {},
          "execution_count": 12
        }
      ],
      "source": [
        "seq[::2]   # star 1 , stop n , de dos en dos"
      ]
    },
    {
      "cell_type": "markdown",
      "metadata": {
        "id": "QgPBUoFd-cMS"
      },
      "source": [
        "Por defecto, `start=0`, `stop=len(seq)` y `step=1`. Si utilizamos valores negativos para `step` invertiremos el orden de la secuencia"
      ]
    },
    {
      "cell_type": "code",
      "execution_count": null,
      "metadata": {
        "colab": {
          "base_uri": "https://localhost:8080/",
          "height": 35
        },
        "id": "NrcThIX_-cic",
        "outputId": "cdc49cc8-79e6-427e-b81c-92e3085fd3ab"
      },
      "outputs": [
        {
          "output_type": "execute_result",
          "data": {
            "text/plain": [
              "'gfedcba'"
            ],
            "application/vnd.google.colaboratory.intrinsic+json": {
              "type": "string"
            }
          },
          "metadata": {},
          "execution_count": 13
        }
      ],
      "source": [
        "seq[::-1] ## Si le damos steps negativos, va para atrás"
      ]
    },
    {
      "cell_type": "markdown",
      "metadata": {
        "id": "CjMRbqiE-ctS"
      },
      "source": [
        "Aunque la sintaxis con `:` es la más frecuente, está bien saber que en Python existe el objeto de tipo **`slice`** para definir nuestra selección de forma independiente a la secuencia. Para ello utilizamos el tipo `slice` con los tres argumentos que hemos visto: `start`, `stop` y `step`."
      ]
    },
    {
      "cell_type": "code",
      "execution_count": null,
      "metadata": {
        "id": "lHBRx0WB_uPs",
        "colab": {
          "base_uri": "https://localhost:8080/"
        },
        "outputId": "5b736688-999d-4e2c-ff6f-2d76ff34b916"
      },
      "outputs": [
        {
          "output_type": "execute_result",
          "data": {
            "text/plain": [
              "slice(None, None, -1)"
            ]
          },
          "metadata": {},
          "execution_count": 32
        }
      ],
      "source": [
        "reverse = slice(None, None, -1) # guardar la secuencia ::-1"
      ]
    },
    {
      "cell_type": "code",
      "execution_count": null,
      "metadata": {
        "colab": {
          "base_uri": "https://localhost:8080/"
        },
        "id": "w7b2xBL8AZVF",
        "outputId": "21b8530c-05b8-4252-9f17-075d983a6882"
      },
      "outputs": [
        {
          "output_type": "execute_result",
          "data": {
            "text/plain": [
              "slice"
            ]
          },
          "metadata": {},
          "execution_count": 33
        }
      ],
      "source": [
        "type(reverse)"
      ]
    },
    {
      "cell_type": "markdown",
      "metadata": {
        "id": "O8-N5elfAaP-"
      },
      "source": [
        ":::{exercise}\n",
        ":label: other-data-structures-slices\n",
        "\n",
        "¿Qué error obtenemos cuando intentamos acceder a un índice que no existe para una secuencia?\n",
        "\n",
        ":::"
      ]
    },
    {
      "cell_type": "code",
      "source": [
        "a = \"aljnld\"\n",
        "a[1:5:1][6] # IndexError: string index out of range"
      ],
      "metadata": {
        "colab": {
          "base_uri": "https://localhost:8080/",
          "height": 183
        },
        "id": "xO5QI917ArNq",
        "outputId": "35c52607-a197-4a8b-8255-a164d6622a39"
      },
      "execution_count": null,
      "outputs": [
        {
          "output_type": "error",
          "ename": "IndexError",
          "evalue": "ignored",
          "traceback": [
            "\u001b[0;31m---------------------------------------------------------------------------\u001b[0m",
            "\u001b[0;31mIndexError\u001b[0m                                Traceback (most recent call last)",
            "\u001b[0;32m<ipython-input-36-a2623bfe5926>\u001b[0m in \u001b[0;36m<module>\u001b[0;34m\u001b[0m\n\u001b[1;32m      1\u001b[0m \u001b[0ma\u001b[0m \u001b[0;34m=\u001b[0m \u001b[0;34m\"aljnld\"\u001b[0m\u001b[0;34m\u001b[0m\u001b[0;34m\u001b[0m\u001b[0m\n\u001b[0;32m----> 2\u001b[0;31m \u001b[0ma\u001b[0m\u001b[0;34m[\u001b[0m\u001b[0;36m1\u001b[0m\u001b[0;34m:\u001b[0m\u001b[0;36m5\u001b[0m\u001b[0;34m:\u001b[0m\u001b[0;36m1\u001b[0m\u001b[0;34m]\u001b[0m\u001b[0;34m[\u001b[0m\u001b[0;36m6\u001b[0m\u001b[0;34m]\u001b[0m\u001b[0;34m\u001b[0m\u001b[0;34m\u001b[0m\u001b[0m\n\u001b[0m",
            "\u001b[0;31mIndexError\u001b[0m: string index out of range"
          ]
        }
      ]
    },
    {
      "cell_type": "markdown",
      "metadata": {
        "id": "wgXUCyosApDi"
      },
      "source": [
        ":::{exercise}\n",
        ":label: other-data-structures-slices-2\n",
        "\n",
        "Considera la siguiente tupla\n",
        "\n",
        "```\n",
        "x = (0, 2, 4, 6, 8)\n",
        "```\n",
        "\n",
        "Indexa o utiliza slides para obtener\n",
        "1. `0`\n",
        "2. `8`\n",
        "3. `(2, 4, 6)`\n",
        "4. `(4,)`\n",
        "5. `4`\n",
        "6. `4` utilizando un índice negativo\n",
        "7. `(6, 8)`\n",
        "8. `(2, 6)`\n",
        "9. `(8, 6, 4, 2)`\n",
        "\n",
        ":::"
      ]
    },
    {
      "cell_type": "code",
      "source": [
        "x = (0, 2, 4, 6, 8)\n",
        "x[0]\n",
        "x[4]\n",
        "x[1:4:1]\n",
        "# Apartado 4\n",
        "a4 = slice(2,3,1)\n",
        "x[a4]\n",
        "# Apartado 5\n",
        "x[2]\n",
        "# Apartado 6\n",
        "x[-3]\n",
        "# Apartado 7\n",
        "a7 = slice(3,5,1)\n",
        "x[a7]\n",
        "# Apartado 8\n",
        "a8 = slice(1,4,2)\n",
        "x[a8]\n",
        "# Apartado 9\n",
        "a9 = slice(5,0,-1)\n",
        "x[a9]\n"
      ],
      "metadata": {
        "colab": {
          "base_uri": "https://localhost:8080/"
        },
        "id": "F70yP0jxA6J5",
        "outputId": "1c64aa5e-f152-4ec8-b68c-62f98aebd0f5"
      },
      "execution_count": null,
      "outputs": [
        {
          "output_type": "execute_result",
          "data": {
            "text/plain": [
              "(8, 6, 4, 2)"
            ]
          },
          "metadata": {},
          "execution_count": 62
        }
      ]
    },
    {
      "cell_type": "markdown",
      "metadata": {
        "id": "VQRjzslmBoO2"
      },
      "source": [
        ":::{exercise}\n",
        ":label: other-data-structures-slices-3\n",
        "\n",
        "Dada una tupla `x` que contenga el número `5`, escribe las instrucciones necesarias para reemplazar la primera instancia de `5` por `-5`.\n",
        "\n",
        ":::"
      ]
    },
    {
      "cell_type": "code",
      "source": [
        "y = (0, 5, 4, 5, 8)\n",
        "a = y.index(5)\n",
        "y = list(y)\n",
        "y[a] = -5\n",
        "y = tuple(y)\n",
        "y"
      ],
      "metadata": {
        "colab": {
          "base_uri": "https://localhost:8080/"
        },
        "id": "mQMwf9aTCoZz",
        "outputId": "69e6039d-6d96-4b0e-9da3-27f591f34ef1"
      },
      "execution_count": null,
      "outputs": [
        {
          "output_type": "execute_result",
          "data": {
            "text/plain": [
              "(0, -5, 4, 5, 8)"
            ]
          },
          "metadata": {},
          "execution_count": 69
        }
      ]
    },
    {
      "cell_type": "markdown",
      "metadata": {
        "id": "afh-nIRFDC74"
      },
      "source": [
        ":::{exercise}\n",
        ":label: other-data-structures-slices-4\n",
        "\n",
        "Dada una secuencia `seq` y un índice negativo `neg_index`, escribe la fórmula que nos daría el índice positivo correspondiente. \n",
        "\n",
        ":::"
      ]
    },
    {
      "cell_type": "code",
      "source": [
        "seq = \"54vfg\"\n",
        "neg_index = -3\n",
        "\n",
        "pos_index = len(seq)+neg_index #(n-1)-2\n",
        "pos_index "
      ],
      "metadata": {
        "colab": {
          "base_uri": "https://localhost:8080/"
        },
        "id": "tDGUQbcqDPPu",
        "outputId": "70d2d8df-caad-4379-e8dc-04ba9048a130"
      },
      "execution_count": null,
      "outputs": [
        {
          "output_type": "execute_result",
          "data": {
            "text/plain": [
              "2"
            ]
          },
          "metadata": {},
          "execution_count": 76
        }
      ]
    },
    {
      "cell_type": "markdown",
      "metadata": {
        "id": "wEl4wwqxDXnx"
      },
      "source": [
        "---\n",
        "## Diccionarios\n",
        "\n"
      ]
    },
    {
      "cell_type": "markdown",
      "metadata": {
        "id": "O6JX_DWmqCa4"
      },
      "source": [
        "Un **diccionario** es un objeto que nos permite guardar campos informados mediante una clave. Para crearlos escribimos pares de clave - valor separados por `:` entre corchetes "
      ]
    },
    {
      "cell_type": "code",
      "execution_count": null,
      "metadata": {
        "id": "HzGUFQ0-sxBc"
      },
      "outputs": [],
      "source": [
        "prices = {         # Tablas de Hash\n",
        "    \"GOOG\": 490.1, \n",
        "    \"AAPL\": 123.5, \n",
        "    \"IBM\": 91.5, \n",
        "    \"MSFT\": 52.13\n",
        "}\n",
        "\n",
        "# diccionario vacío \n",
        "empty_dict = {}    # también se crea con dict()"
      ]
    },
    {
      "cell_type": "markdown",
      "metadata": {
        "id": "DxmHeZUptDBy"
      },
      "source": [
        "Se pueden crear también diccionarios a partir del constructor `dict`, que acepta un iterable de pares de clave-valor empaquetados en una secuencia.   "
      ]
    },
    {
      "cell_type": "code",
      "execution_count": null,
      "metadata": {
        "id": "LMu3lwxM2XAI",
        "colab": {
          "base_uri": "https://localhost:8080/"
        },
        "outputId": "72e98f79-22b6-46ee-9dbe-d6520e6e424d"
      },
      "outputs": [
        {
          "output_type": "execute_result",
          "data": {
            "text/plain": [
              "{'apple': 'fruit', 'carrot': 'vegetable'}"
            ]
          },
          "metadata": {},
          "execution_count": 78
        }
      ],
      "source": [
        "fruit_or_veggie = dict([(\"apple\", \"fruit\"), (\"carrot\", \"vegetable\")])\n",
        "fruit_or_veggie"
      ]
    },
    {
      "cell_type": "markdown",
      "metadata": {
        "id": "P6F7PHmfpWYx"
      },
      "source": [
        "Para acceder a un valor del diccionario a través de la clave se pueden utilizar corchetes `[]` con la clave entre comillas"
      ]
    },
    {
      "cell_type": "code",
      "execution_count": null,
      "metadata": {
        "colab": {
          "base_uri": "https://localhost:8080/"
        },
        "id": "IEAUv_f_pnCm",
        "outputId": "23f07e6c-7bfc-437b-c118-fe9aabe1949f"
      },
      "outputs": [
        {
          "output_type": "execute_result",
          "data": {
            "text/plain": [
              "490.1"
            ]
          },
          "metadata": {},
          "execution_count": 81
        }
      ],
      "source": [
        "prices[\"GOOG\"]"
      ]
    },
    {
      "cell_type": "markdown",
      "metadata": {
        "id": "p82yoAkxpmk7"
      },
      "source": [
        "aunque es más recomendable utilizar el método `get`, ya que si la clave buscada no se encuentra devuelve un `None` o el valor por defecto que le indiquemos, en lugar de levantar un error tipo `KeyError`. "
      ]
    },
    {
      "cell_type": "code",
      "execution_count": null,
      "metadata": {
        "colab": {
          "base_uri": "https://localhost:8080/"
        },
        "id": "tgGIa8-tqim7",
        "outputId": "ccbd857f-105b-4894-ed59-f050c42bd0bf"
      },
      "outputs": [
        {
          "output_type": "execute_result",
          "data": {
            "text/plain": [
              "490.1"
            ]
          },
          "metadata": {},
          "execution_count": 82
        }
      ],
      "source": [
        "prices.get(\"GOOG\") ## Metodo get, mejor más eplícito ==> Devuelve None y no un error"
      ]
    },
    {
      "cell_type": "code",
      "execution_count": null,
      "metadata": {
        "colab": {
          "base_uri": "https://localhost:8080/"
        },
        "id": "B_EIMUpWp_pz",
        "outputId": "76255d79-ea8d-4eed-fb2e-cb282e7d6141"
      },
      "outputs": [
        {
          "output_type": "execute_result",
          "data": {
            "text/plain": [
              "0.0"
            ]
          },
          "metadata": {},
          "execution_count": 84
        }
      ],
      "source": [
        "prices.get(\"AMZ\", 0.0)    # devuelve 0.0 si no encuentra la clave AMZ, NO ME LO CREA"
      ]
    },
    {
      "cell_type": "code",
      "execution_count": null,
      "metadata": {
        "colab": {
          "base_uri": "https://localhost:8080/",
          "height": 171
        },
        "id": "J5Vf0X8MqJ0r",
        "outputId": "06b5f161-ca93-48bc-ed8d-947f4d47b4fa"
      },
      "outputs": [
        {
          "ename": "KeyError",
          "evalue": "ignored",
          "output_type": "error",
          "traceback": [
            "\u001b[0;31m---------------------------------------------------------------------------\u001b[0m",
            "\u001b[0;31mKeyError\u001b[0m                                  Traceback (most recent call last)",
            "\u001b[0;32m<ipython-input-31-a5e5920f828e>\u001b[0m in \u001b[0;36m<module>\u001b[0;34m\u001b[0m\n\u001b[0;32m----> 1\u001b[0;31m \u001b[0mprices\u001b[0m\u001b[0;34m[\u001b[0m\u001b[0;34m\"AMZ\"\u001b[0m\u001b[0;34m]\u001b[0m\u001b[0;34m\u001b[0m\u001b[0;34m\u001b[0m\u001b[0m\n\u001b[0m",
            "\u001b[0;31mKeyError\u001b[0m: 'AMZ'"
          ]
        }
      ],
      "source": [
        "prices[\"AMZ\"]"
      ]
    },
    {
      "cell_type": "markdown",
      "metadata": {
        "id": "3LSOPwY-qxAM"
      },
      "source": [
        "Los diccionarios son objetos **mutables**, podemos añadir elementos directamente"
      ]
    },
    {
      "cell_type": "code",
      "execution_count": null,
      "metadata": {
        "colab": {
          "base_uri": "https://localhost:8080/"
        },
        "id": "i7z7dJ_TrMF2",
        "outputId": "88d10afe-2612-4f2b-b288-7b39da99bd49"
      },
      "outputs": [
        {
          "output_type": "execute_result",
          "data": {
            "text/plain": [
              "{'GOOG': 490.1, 'AAPL': 123.5, 'IBM': 91.5, 'MSFT': 52.13, 'AMZ': 90.98}"
            ]
          },
          "metadata": {},
          "execution_count": 85
        }
      ],
      "source": [
        "prices[\"AMZ\"] = 90.98\n",
        "prices"
      ]
    },
    {
      "cell_type": "markdown",
      "metadata": {
        "id": "iqDwah-7sIgM"
      },
      "source": [
        "para ello también tenemos el método `update`, que acepta otro diccionario o un iterable de pares clave-valor."
      ]
    },
    {
      "cell_type": "code",
      "execution_count": null,
      "metadata": {
        "colab": {
          "base_uri": "https://localhost:8080/"
        },
        "id": "9Yen_8BSsWZy",
        "outputId": "da8e5e49-844f-4d0b-bffa-55c7c3ea1d7b"
      },
      "outputs": [
        {
          "data": {
            "text/plain": [
              "{'apple': 'fruit',\n",
              " 'carrot': 'vegetable',\n",
              " 'grape': 'fruit',\n",
              " 'onion': 'vegetable'}"
            ]
          },
          "execution_count": 42,
          "metadata": {},
          "output_type": "execute_result"
        }
      ],
      "source": [
        "fruit_or_veggie.update([(\"grape\", \"fruit\"), (\"onion\", \"vegetable\")]) #update\n",
        "fruit_or_veggie"
      ]
    },
    {
      "cell_type": "markdown",
      "metadata": {
        "id": "roqEbfQht8hz"
      },
      "source": [
        "para borrar un elemento utilizamos `del` (leventa error si no encuentra la clave) o el método `pop` o `remove` como vimos en listas."
      ]
    },
    {
      "cell_type": "code",
      "execution_count": null,
      "metadata": {
        "id": "VDAXxIsquARw"
      },
      "outputs": [],
      "source": [
        "del prices[\"AMZ\"]"
      ]
    },
    {
      "cell_type": "code",
      "execution_count": null,
      "metadata": {
        "colab": {
          "base_uri": "https://localhost:8080/"
        },
        "id": "rE6dc3eeuVZA",
        "outputId": "c4e9184f-f593-4c60-eb87-13bc8b0f07c7"
      },
      "outputs": [
        {
          "data": {
            "text/plain": [
              "{'GOOG': 490.1, 'AAPL': 123.5, 'IBM': 91.5, 'MSFT': 52.13}"
            ]
          },
          "execution_count": 44,
          "metadata": {},
          "output_type": "execute_result"
        }
      ],
      "source": [
        "prices"
      ]
    },
    {
      "cell_type": "markdown",
      "metadata": {
        "id": "R2MKWHA4sH06"
      },
      "source": [
        ":::{exercise}\n",
        ":label: other-data-structures-dict\n",
        "\n",
        "Dada la siguiente tupla de nombres \n",
        "\n",
        "```\n",
        "(\"Alicia\", \"Eva\", \"Manolo\", \"Virginia\")\n",
        "```\n",
        "\n",
        "y sus correspondientes calificaciones \n",
        "º\n",
        "```\n",
        "(5.2, 9.1, 7.2, 4.9)\n",
        "```\n",
        "\n",
        "crea un diccionario que mapee nombres con calificaciones. Luego, actualiza la nota de Virginia a un `5.0`. Finalmente, añade a Alberto, que ha cateado con un `2.7`.\n",
        "\n",
        ":::"
      ]
    },
    {
      "cell_type": "code",
      "source": [
        "## De manera mecánica\n",
        "nom = (\"Alicia\", \"Eva\", \"Manolo\", \"Virginia\")\n",
        "cal = (5.2, 9.1, 7.2, 4.9)\n",
        "my_dict = dict(zip(nom,cal))\n",
        "\n",
        "## Manuealmente\n",
        "calificaciones = dict([(\"Alicia\",5.2),(\"Eva\",9.1),(\"Manolo\",7.2),(\"Virginia\",4.9)])\n",
        "calificaciones[\"Eva\"] = 5\n",
        "calificaciones[\"Alberto\"] = 2.7\n",
        "\n",
        "calificaciones\n",
        "\n"
      ],
      "metadata": {
        "colab": {
          "base_uri": "https://localhost:8080/"
        },
        "id": "d67v5iSjIQJ-",
        "outputId": "0fc8aaa1-febc-4ed6-e663-16242b8371a7"
      },
      "execution_count": null,
      "outputs": [
        {
          "output_type": "execute_result",
          "data": {
            "text/plain": [
              "{'Alicia': 5.2, 'Eva': 9.1, 'Manolo': 7.2, 'Virginia': 4.9}"
            ]
          },
          "metadata": {},
          "execution_count": 96
        }
      ]
    },
    {
      "cell_type": "markdown",
      "metadata": {
        "id": "3WR_QmZLvf_9"
      },
      "source": [
        "> Un diccionario **puede almacenar cualquier tipo de objeto**, pero las claves deben ser siempre **inmutables**, o más generalmente, **hasheables**. "
      ]
    },
    {
      "cell_type": "code",
      "execution_count": null,
      "metadata": {
        "id": "lfonNBFb22-R"
      },
      "outputs": [],
      "source": [
        "example_dict = {\n",
        "    -1: 10, \n",
        "    \"moo\": True,\n",
        "    (1, 2): print,\n",
        "    3.4: \"cow\", # es altamente no recomendable usar floats como claves \n",
        "    False:[] \n",
        "}"
      ]
    },
    {
      "cell_type": "markdown",
      "metadata": {
        "id": "zlaa119JwiVh"
      },
      "source": [
        ":::{exercise}\n",
        ":label: other-data-structures-dict-2\n",
        "\n",
        "¿Qué tipo de error obtenemos al crear un diccionario con una clave que sea mutable?\n",
        "\n",
        ":::"
      ]
    },
    {
      "cell_type": "code",
      "source": [
        "Dict = {\n",
        "    [1,2] : 3    # una lista es mutable   TypeError: unhashable type: 'list'\n",
        "}"
      ],
      "metadata": {
        "colab": {
          "base_uri": "https://localhost:8080/",
          "height": 200
        },
        "id": "KnjggNLBKVLl",
        "outputId": "4b1d7d81-fab5-44b3-ff44-05c5e1d4ee20"
      },
      "execution_count": null,
      "outputs": [
        {
          "output_type": "error",
          "ename": "TypeError",
          "evalue": "ignored",
          "traceback": [
            "\u001b[0;31m---------------------------------------------------------------------------\u001b[0m",
            "\u001b[0;31mTypeError\u001b[0m                                 Traceback (most recent call last)",
            "\u001b[0;32m<ipython-input-97-a8ca8db7d0a1>\u001b[0m in \u001b[0;36m<module>\u001b[0;34m\u001b[0m\n\u001b[1;32m      1\u001b[0m Dict = {\n\u001b[0;32m----> 2\u001b[0;31m     \u001b[0;34m[\u001b[0m\u001b[0;36m1\u001b[0m\u001b[0;34m,\u001b[0m\u001b[0;36m2\u001b[0m\u001b[0;34m]\u001b[0m \u001b[0;34m:\u001b[0m \u001b[0;36m3\u001b[0m \u001b[0;31m# una lista es mutable\u001b[0m\u001b[0;34m\u001b[0m\u001b[0;34m\u001b[0m\u001b[0m\n\u001b[0m\u001b[1;32m      3\u001b[0m }\n",
            "\u001b[0;31mTypeError\u001b[0m: unhashable type: 'list'"
          ]
        }
      ]
    },
    {
      "cell_type": "markdown",
      "metadata": {
        "id": "8iblA2P33Vnw"
      },
      "source": [
        "Cuando iteramos sobre un diccionario, se utilizan las claves como referencia. Por ejemplo "
      ]
    },
    {
      "cell_type": "code",
      "execution_count": null,
      "metadata": {
        "id": "_1UwieAN3iOY"
      },
      "outputs": [],
      "source": [
        "example_dict = {\"key1\": \"value1\", \"key2\": \"value2\", \"key3\": \"value3\"}"
      ]
    },
    {
      "cell_type": "code",
      "execution_count": null,
      "metadata": {
        "colab": {
          "base_uri": "https://localhost:8080/"
        },
        "id": "gTxYSqVa3mp5",
        "outputId": "f4aa87e8-9452-4544-984f-ac3c702e74e9"
      },
      "outputs": [
        {
          "data": {
            "text/plain": [
              "['key1', 'key2', 'key3']"
            ]
          },
          "execution_count": 59,
          "metadata": {},
          "output_type": "execute_result"
        }
      ],
      "source": [
        "list(example_dict)"
      ]
    },
    {
      "cell_type": "code",
      "execution_count": null,
      "metadata": {
        "colab": {
          "base_uri": "https://localhost:8080/"
        },
        "id": "t34cr1B43lXl",
        "outputId": "7d32cbaf-3734-4733-841f-3513d45eb7e6"
      },
      "outputs": [
        {
          "data": {
            "text/plain": [
              "False"
            ]
          },
          "execution_count": 60,
          "metadata": {},
          "output_type": "execute_result"
        }
      ],
      "source": [
        "\"value1\" in example_dict"
      ]
    },
    {
      "cell_type": "code",
      "execution_count": null,
      "metadata": {
        "colab": {
          "base_uri": "https://localhost:8080/"
        },
        "id": "cm7G8PAs3vgc",
        "outputId": "b116169a-38ac-474a-9e4d-b1f38f242e1b"
      },
      "outputs": [
        {
          "data": {
            "text/plain": [
              "3"
            ]
          },
          "execution_count": 62,
          "metadata": {},
          "output_type": "execute_result"
        }
      ],
      "source": [
        "len(example_dict) # nos da el número de claves"
      ]
    },
    {
      "cell_type": "markdown",
      "metadata": {
        "id": "XO88om-530vx"
      },
      "source": [
        "Para acceder a los valores de un diccionario, hay que invocar al método `values`. Si queremos los pares clave-valor como duplas, llamamos a `items`"
      ]
    },
    {
      "cell_type": "code",
      "execution_count": null,
      "metadata": {
        "colab": {
          "base_uri": "https://localhost:8080/"
        },
        "id": "aRg5dHuG4AWi",
        "outputId": "d0ffb706-ac04-44b2-fa1f-e4981b1ca466"
      },
      "outputs": [
        {
          "data": {
            "text/plain": [
              "['value1', 'value2', 'value3']"
            ]
          },
          "execution_count": 64,
          "metadata": {},
          "output_type": "execute_result"
        }
      ],
      "source": [
        "list(example_dict.values())"
      ]
    },
    {
      "cell_type": "code",
      "execution_count": null,
      "metadata": {
        "colab": {
          "base_uri": "https://localhost:8080/"
        },
        "id": "EOABBAQg4GW-",
        "outputId": "12d2d722-5809-444a-cf5e-4a52b756ed27"
      },
      "outputs": [
        {
          "data": {
            "text/plain": [
              "[('key1', 'value1'), ('key2', 'value2'), ('key3', 'value3')]"
            ]
          },
          "execution_count": 65,
          "metadata": {},
          "output_type": "execute_result"
        }
      ],
      "source": [
        "list(example_dict.items())"
      ]
    },
    {
      "cell_type": "markdown",
      "source": [
        "---\n",
        "## Conjuntos\n",
        "\n",
        "Los **conjuntos** nos sirven para crear una estructura de objetos **únicos** y **sin orden**. Por lo tanto son útiles para \n",
        "- Filtrar objetos repetidos de una colección. \n",
        "- Comprobar pertenencia de un objeto en tiempo constante. \n",
        "- Verificar si una colección de objetos contiene a otra. \n",
        "La estructura de conjunto utiliza el método `__hash__` que incoporan los objetos hasheables para guardarlos. Es parecido a los diccionarios pero sin utilizar una clave, por lo tanto **no podemos guardar objetos mutables en un conjunto**. \n",
        "\n",
        "Para crear un conjunto utilizamos corchetes `{}` o la función `set`, a la que podemos pasar cualquier iterable. "
      ],
      "metadata": {
        "id": "1x97zPysze8h"
      }
    },
    {
      "cell_type": "code",
      "source": [
        "my_set = {1, 3.4, \"apple\", False, (1, 2, 3)}\n",
        "my_set"
      ],
      "metadata": {
        "colab": {
          "base_uri": "https://localhost:8080/"
        },
        "id": "QZqGYV5I0_vF",
        "outputId": "a2c8a2ea-9f0c-41fb-c487-7767a44ef626"
      },
      "execution_count": 1,
      "outputs": [
        {
          "output_type": "execute_result",
          "data": {
            "text/plain": [
              "{(1, 2, 3), 1, 3.4, False, 'apple'}"
            ]
          },
          "metadata": {},
          "execution_count": 1
        }
      ]
    },
    {
      "cell_type": "code",
      "source": [
        "{\"foo\", \"bar\", [\"baz\"]} #"
      ],
      "metadata": {
        "colab": {
          "base_uri": "https://localhost:8080/",
          "height": 165
        },
        "id": "ItsLR3_01J9-",
        "outputId": "f2293eb4-89ac-43e5-81c8-513d6e75b3ff"
      },
      "execution_count": 2,
      "outputs": [
        {
          "output_type": "error",
          "ename": "TypeError",
          "evalue": "ignored",
          "traceback": [
            "\u001b[0;31m---------------------------------------------------------------------------\u001b[0m",
            "\u001b[0;31mTypeError\u001b[0m                                 Traceback (most recent call last)",
            "\u001b[0;32m<ipython-input-2-4fd79aa68f5c>\u001b[0m in \u001b[0;36m<module>\u001b[0;34m\u001b[0m\n\u001b[0;32m----> 1\u001b[0;31m \u001b[0;34m{\u001b[0m\u001b[0;34m\"foo\"\u001b[0m\u001b[0;34m,\u001b[0m \u001b[0;34m\"bar\"\u001b[0m\u001b[0;34m,\u001b[0m \u001b[0;34m[\u001b[0m\u001b[0;34m\"baz\"\u001b[0m\u001b[0;34m]\u001b[0m\u001b[0;34m}\u001b[0m\u001b[0;34m\u001b[0m\u001b[0;34m\u001b[0m\u001b[0m\n\u001b[0m",
            "\u001b[0;31mTypeError\u001b[0m: unhashable type: 'list'"
          ]
        }
      ]
    },
    {
      "cell_type": "markdown",
      "source": [
        "Al igual que los diccionarios, los conjuntos son objetos **iterables que no son secuencias**. A continuación mostramos las operaciones más usuales entre conjuntos"
      ],
      "metadata": {
        "id": "rI3pElj41hWF"
      }
    },
    {
      "cell_type": "code",
      "source": [
        "x = {\"a\", \"b\", \"c\", \"d\"}\n",
        "y = {\"a\", \"b\", \"e\"}\n",
        "\n",
        "# unión\n",
        "x | y  # o x.union(y)\n",
        "# {'a', 'b', 'c', 'd', 'e'}\n",
        "\n",
        "# intersección\n",
        "x & y  # o x.intersection(y)\n",
        "# {'a', 'b'}\n",
        "\n",
        "# diferencia\n",
        "x - y  # o x.difference(y)\n",
        "# {'c', 'd'}\n",
        "\n",
        "# diferencia simétrica\n",
        "x ^ y  # o x.symmetric_difference(y)\n",
        "# {'c', 'd', 'e'}\n",
        "\n",
        "# verifica subconjunto\n",
        "{1, 2, 3, 4} >= {1, 2}\n",
        "# True\n",
        "\n",
        "# verifica igualdad \n",
        "{1, 2, 3, 4} == {1, 2}\n",
        "# False"
      ],
      "metadata": {
        "id": "tf8mMa1S3CKi"
      },
      "execution_count": null,
      "outputs": []
    },
    {
      "cell_type": "markdown",
      "source": [
        "Los conjuntos con objetos **mutables**, podemos modificarlos con los métodos `add` (añade un elemento), `update` (añade varios elementos mediante un iterable) o `remove`. Existe una versión **inmutable** de los conjuntos, llamada `fronzenset`. "
      ],
      "metadata": {
        "id": "E7lIWc4T3t__"
      }
    },
    {
      "cell_type": "markdown",
      "source": [
        ":::{exercise}\n",
        ":label: other-data-structures-sets\n",
        "\n",
        "Considera las siguientes listas de nombres: \n",
        "\n",
        "```\n",
        "A = [\"Bohr\", \"Curie\", \"David\", \"Euler\", \"Fermi\", \"Feynman\", \"Gauss\", \"Heisenberg\", \"Noether\", \"Gauss\"]\n",
        "```\n",
        "\n",
        "```\n",
        "B = [\"Bohm\", \"Bohr\", \"Einstein\", \"Fermi\", \"Gauss\", \"Hopper\", \"Montalcini\", \"Fermi\", \"Einsteins\"]\n",
        "```\n",
        "\n",
        "Escribe expresiones que devuelvan:\n",
        "1. Número total de nombres únicos. \n",
        "2. Nombres de A que no están en B. \n",
        "3. Número de nombres de A que no están en B o nombres de B que no están en A\n",
        "\n",
        "\n",
        ":::"
      ],
      "metadata": {
        "id": "JyTet8ls4Gik"
      }
    },
    {
      "cell_type": "code",
      "source": [
        "A = [\"Bohr\", \"Curie\", \"David\", \"Euler\", \"Fermi\", \"Feynman\", \"Gauss\", \"Heisenberg\", \"Noether\", \"Gauss\"]\n",
        "B = [\"Bohm\", \"Bohr\", \"Einstein\", \"Fermi\", \"Gauss\", \"Hopper\", \"Montalcini\", \"Fermi\", \"Einsteins\"]\n",
        "\n",
        "CA = set(A)\n",
        "CA # Gauss me lo pone solo una vez\n",
        "CB = set(B)\n",
        "\n",
        "## 1\n",
        "len(CA)\n",
        "\n",
        "## 2\n",
        "CA-CA.intersection(CB)\n",
        "\n",
        "## 3\n",
        "len(CA-CA.intersection(CB)|CB-CB.intersection(CA))\n"
      ],
      "metadata": {
        "id": "h8MGXb6cRlsM",
        "outputId": "7736ca2a-6999-43e7-9e09-aba76d1b0070",
        "colab": {
          "base_uri": "https://localhost:8080/"
        }
      },
      "execution_count": 7,
      "outputs": [
        {
          "output_type": "execute_result",
          "data": {
            "text/plain": [
              "11"
            ]
          },
          "metadata": {},
          "execution_count": 7
        }
      ]
    },
    {
      "cell_type": "markdown",
      "source": [
        "Existen otras muchas estructuras de datos altamente optimizadas para tareas concretas en el módulo [`collections`](https://docs.python.org/3/library/collections.html)"
      ],
      "metadata": {
        "id": "td1JEwtU5Mle"
      }
    },
    {
      "cell_type": "markdown",
      "source": [
        "---\n",
        "## Generadores"
      ],
      "metadata": {
        "id": "m6Y293e3_5FC"
      }
    },
    {
      "cell_type": "markdown",
      "source": [
        "Los **generadores** nos permiten generar en forma de promesa un número arbitrario de items sin necesidad de guardarlos en memoria. Se trata de un objeto iterable, pero que genera cada uno de sus miembros en orden cuando las iteraciones lo vayan requiriendo. Ya hemos visto un ejemplo de generador cuando hemos utilizado la función `range`. Es bastante común contruir listas, tuplas o conjuntos a partir de un generador. \n",
        "\n",
        "La sintaxis para crear un generador es la siguiente\n",
        "\n",
        "```\n",
        "(<expression> for <var> in <iterable> if <condition>)\n",
        "```\n"
      ],
      "metadata": {
        "id": "YoEG8n_mBnlZ"
      }
    },
    {
      "cell_type": "markdown",
      "source": [
        "Por ejemplo, "
      ],
      "metadata": {
        "id": "Xv3IsPUYAV0h"
      }
    },
    {
      "cell_type": "code",
      "source": [
        "even_gen = (i for i in range(100) if i%2 == 0)"
      ],
      "metadata": {
        "id": "AFRGhy3LCeQd"
      },
      "execution_count": 8,
      "outputs": []
    },
    {
      "cell_type": "markdown",
      "source": [
        ":::{exercise}\n",
        ":label: other-data-structures-generators\n",
        "\n",
        "Estudia cómo evoluciona el tamaño en memoria de un generador un función de su tamaño. \n",
        "\n",
        ":::"
      ],
      "metadata": {
        "id": "Z7FBnQyNDo05"
      }
    },
    {
      "cell_type": "code",
      "source": [
        "## Siempre opupa lo mismo, no crea nada en memoria "
      ],
      "metadata": {
        "id": "x4_1CQa4UBen"
      },
      "execution_count": null,
      "outputs": []
    },
    {
      "cell_type": "markdown",
      "source": [
        "Podemos aplicar métodos propios de un objeto iterable como `all` o `sum` a un generador. También son bastante útiles a la hora de definir listas, diccionarios o conjuntos mediante las denominadas **expresiones de comprensión**"
      ],
      "metadata": {
        "id": "eHOzziEBD4uc"
      }
    },
    {
      "cell_type": "code",
      "source": [
        "# crea una lista\n",
        "my_list = [i for i in range(100) if i%2 == 0]\n",
        "\n",
        "# crea una tupla\n",
        "my_tuple = tuple(i for i in range(100) if i%2==0)\n",
        "\n",
        "# crea un conjunto\n",
        "my_set = {i for i in range(100) if i%2 == 0}"
      ],
      "metadata": {
        "id": "dsl0RXPlEcL1"
      },
      "execution_count": 9,
      "outputs": []
    },
    {
      "cell_type": "markdown",
      "source": [
        "En los tres casos, lo que hace python es crear un generador y a partir del mismo llamar a las funciones `list`, `tuple` y `set`. En caso de los diccionarios, también existe una sintaxis similar"
      ],
      "metadata": {
        "id": "aM7DO1J8E8SB"
      }
    },
    {
      "cell_type": "code",
      "source": [
        "# crea un diccionario \n",
        "keys = [\"key1\", \"key2\", \"key3\"]\n",
        "values = [\"value1\", \"value2\", \"value3\"]\n",
        "my_dict = {key:value for key, value in zip(keys, values)}\n",
        "my_dict"
      ],
      "metadata": {
        "id": "IakasQ2YGCPV",
        "colab": {
          "base_uri": "https://localhost:8080/"
        },
        "outputId": "9cc34dd9-44ca-4a00-9b37-b5347cad5d01"
      },
      "execution_count": 14,
      "outputs": [
        {
          "output_type": "execute_result",
          "data": {
            "text/plain": [
              "{'key1': 'value1', 'key2': 'value2', 'key3': 'value3'}"
            ]
          },
          "metadata": {},
          "execution_count": 14
        }
      ]
    },
    {
      "cell_type": "markdown",
      "source": [
        "La función `zip` crea un iterable de tuplas de longitud 2 con los items del primer y segundo argumento, respectivamete. \n",
        "\n",
        "Para iterar sobre los elementos de un generador, podemos utilizar la función `next`"
      ],
      "metadata": {
        "id": "1x4JLkW2GEzb"
      }
    },
    {
      "cell_type": "code",
      "source": [
        "next(even_gen)"
      ],
      "metadata": {
        "colab": {
          "base_uri": "https://localhost:8080/"
        },
        "id": "HowiG88LHkUU",
        "outputId": "d6e9e4f4-c47d-4562-9e43-d21df3f67ed8"
      },
      "execution_count": 19,
      "outputs": [
        {
          "output_type": "execute_result",
          "data": {
            "text/plain": [
              "12"
            ]
          },
          "metadata": {},
          "execution_count": 19
        }
      ]
    },
    {
      "cell_type": "code",
      "source": [
        "next(even_gen)"
      ],
      "metadata": {
        "colab": {
          "base_uri": "https://localhost:8080/"
        },
        "id": "XL-uOG5HHnLD",
        "outputId": "5b08b693-dbe8-4082-c69f-681c2e342ad5"
      },
      "execution_count": 20,
      "outputs": [
        {
          "output_type": "execute_result",
          "data": {
            "text/plain": [
              "14"
            ]
          },
          "metadata": {},
          "execution_count": 20
        }
      ]
    },
    {
      "cell_type": "markdown",
      "source": [
        "Cuando un objeto además de ser un iterable tiene la capacidad de almacenar el estado de su iteración, se dice que es un **iterador**. "
      ],
      "metadata": {
        "id": "DfjlUiVTHonl"
      }
    },
    {
      "cell_type": "markdown",
      "source": [
        ":::{exercise}\n",
        ":label: other-data-structures-generators-2\n",
        "\n",
        "Considera las siguientes expresiones\n",
        "\n",
        "```\n",
        "sum(1/n for n in range(1, 101))\n",
        "```\n",
        "\n",
        "```\n",
        "sum([1/n for n in range(1, 101)])\n",
        "```\n",
        "\n",
        "¿Cuál es más eficiente? ¿Por qué?\n",
        "\n",
        ":::"
      ],
      "metadata": {
        "id": "I8oB9sYeGY4G"
      }
    },
    {
      "cell_type": "markdown",
      "metadata": {
        "id": "UYD6kWkQTZ05"
      },
      "source": [
        "---\n",
        "## Comparación complejidad computacional \n",
        "\n",
        "Vamos a comparar las diferentes estructuras de datos que hemos visto en cuanto a su tiempo de cómputo para diferentes tareas. No te preocupes ahora mismo por el código utilizado para hacer estas pruebas y pintar las gráficas."
      ]
    },
    {
      "cell_type": "markdown",
      "metadata": {
        "id": "Z3bfeRslp-sv"
      },
      "source": [
        "### Pertenencia\n"
      ]
    },
    {
      "cell_type": "code",
      "execution_count": 21,
      "metadata": {
        "id": "UB-dtNKwppRl",
        "colab": {
          "base_uri": "https://localhost:8080/",
          "height": 296
        },
        "outputId": "6442f5ea-9f85-44e7-d366-1c58b7be5436"
      },
      "outputs": [
        {
          "output_type": "display_data",
          "data": {
            "text/plain": [
              "<Figure size 432x288 with 1 Axes>"
            ],
            "image/png": "[encoded data removed]"
          },
          "metadata": {
            "image/png": {
              "width": 393,
              "height": 279
            },
            "needs_background": "light"
          }
        }
      ],
      "source": [
        "%config InlineBackend.figure_format = \"retina\"\n",
        "\n",
        "import time\n",
        "import numpy as np\n",
        "import matplotlib.pyplot as plt\n",
        "\n",
        "def get_membership_time_from_range(i):\n",
        "    iterable = range(i)\n",
        "    execution_time = get_membership_time_from_iterable(i - 1, iterable)\n",
        "    return execution_time\n",
        "\n",
        "def get_membership_time_from_list(i):\n",
        "    iterable = list(range(i))\n",
        "    execution_time = get_membership_time_from_iterable(i - 1, iterable)\n",
        "    return execution_time\n",
        "\n",
        "def get_membership_time_from_set(i):\n",
        "    iterable = set(range(i))\n",
        "    execution_time = get_membership_time_from_iterable(i - 1, iterable)\n",
        "    return execution_time\n",
        "\n",
        "def get_membership_time_from_tuple(i):\n",
        "    iterable = tuple(range(i))\n",
        "    execution_time = get_membership_time_from_iterable(i - 1, iterable)\n",
        "    return execution_time\n",
        "\n",
        "def get_membership_time_from_iterable(i, iterable, repeat=10):\n",
        "    execution_times = []\n",
        "    for _ in range(repeat):\n",
        "        start = time.time()\n",
        "        i in iterable\n",
        "        end = time.time()\n",
        "        execution_time = end - start\n",
        "        execution_times.append(execution_time)\n",
        "    mean_execution_time = np.mean(execution_times)\n",
        "    return mean_execution_time\n",
        "\n",
        "n = [10**i for i in range(8)]\n",
        "t_range = [get_membership_time_from_range(i) for i in n]\n",
        "t_list = [get_membership_time_from_list(i) for i in n]\n",
        "t_set = [get_membership_time_from_set(i) for i in n]\n",
        "t_tuple = [get_membership_time_from_tuple(i) for i in n]\n",
        "\n",
        "fig, ax = plt.subplots()\n",
        "ax.plot(n, t_list, \"o-\", label=\"list\")\n",
        "ax.plot(n, t_range, \"o-\", label=\"range\")\n",
        "ax.plot(n, t_set, \"o-\", label=\"set\")\n",
        "ax.plot(n, t_tuple, \"o-\", label=\"tuple\")\n",
        "ax.set_xscale(\"log\")\n",
        "ax.set_yscale(\"log\")\n",
        "ax.set_xlabel(\"tamaño iterable\")\n",
        "ax.set_ylabel(\"tiempo (s)\")\n",
        "ax.set_title(\"Tiempo de cómputo en verificar pertenencia\")\n",
        "ax.grid(True)\n",
        "ax.legend()\n",
        "fig.show()"
      ]
    },
    {
      "cell_type": "markdown",
      "source": [
        "## Borra un elemento"
      ],
      "metadata": {
        "id": "JtvMKh7a6IRe"
      }
    },
    {
      "cell_type": "code",
      "source": [
        "i = 5\n",
        "iterable = set(range(i))"
      ],
      "metadata": {
        "id": "cA8cfpxO8g_Z"
      },
      "execution_count": 22,
      "outputs": []
    },
    {
      "cell_type": "code",
      "execution_count": null,
      "metadata": {
        "id": "H5pLm549pq70",
        "colab": {
          "base_uri": "https://localhost:8080/",
          "height": 296
        },
        "outputId": "3dded8d9-88e1-45cb-8417-a3280f9e7cb6"
      },
      "outputs": [
        {
          "output_type": "display_data",
          "data": {
            "text/plain": [
              "<Figure size 432x288 with 1 Axes>"
            ],
            "image/png": "[encoded data removed]"
          },
          "metadata": {
            "image/png": {
              "width": 393,
              "height": 279
            },
            "needs_background": "light"
          }
        }
      ],
      "source": [
        "repeat = 10\n",
        "\n",
        "def get_deletion_time_from_list(i):\n",
        "    iterable = list(range(i))\n",
        "    execution_times = []\n",
        "    for _ in range(repeat):\n",
        "        start = time.time()\n",
        "        iterable.remove(i - 1)\n",
        "        end = time.time()\n",
        "        execution_time = end - start\n",
        "        iterable.append(i - 1)\n",
        "        execution_times.append(execution_time)\n",
        "    mean_execution_time = np.mean(execution_times)\n",
        "    return mean_execution_time\n",
        "\n",
        "def get_deletion_time_from_set(i):\n",
        "    iterable = set(range(i))\n",
        "    execution_times = []\n",
        "    for _ in range(repeat):\n",
        "        start = time.time()\n",
        "        iterable.remove(i - 1)\n",
        "        end = time.time()\n",
        "        execution_time = end - start\n",
        "        iterable.add(i - 1)\n",
        "        execution_times.append(execution_time)\n",
        "    mean_execution_time = np.mean(execution_times)\n",
        "    return mean_execution_time\n",
        "\n",
        "n = [10**i for i in range(1, 8)]\n",
        "t_list = [get_deletion_time_from_list(i) for i in n]\n",
        "t_set = [get_deletion_time_from_set(i) for i in n]\n",
        "\n",
        "fig, ax = plt.subplots()\n",
        "ax.plot(n, t_list, \"o-\", label=\"list\")\n",
        "ax.plot(n, t_set, \"o-\", label=\"set\")\n",
        "ax.set_xscale(\"log\")\n",
        "ax.set_yscale(\"log\")\n",
        "ax.set_xlabel(\"tamaño iterable\")\n",
        "ax.set_ylabel(\"tiempo (s)\")\n",
        "ax.set_title(\"Tiempo de cómputo en borrar elemento\")\n",
        "ax.grid(True)\n",
        "ax.legend()\n",
        "fig.show()"
      ]
    },
    {
      "cell_type": "code",
      "source": [
        "def get_len_time_from_range(i):\n",
        "    iterable = range(i)\n",
        "    execution_time = get_len_time_from_iterable(iterable)\n",
        "    return execution_time\n",
        "\n",
        "def get_len_time_from_list(i):\n",
        "    iterable = list(range(i))\n",
        "    execution_time = get_len_time_from_iterable(iterable)\n",
        "    return execution_time\n",
        "\n",
        "def get_len_time_from_set(i):\n",
        "    iterable = set(range(i))\n",
        "    execution_time = get_len_time_from_iterable(iterable)\n",
        "    return execution_time\n",
        "\n",
        "def get_len_time_from_tuple(i):\n",
        "    iterable = tuple(range(i))\n",
        "    execution_time = get_len_time_from_iterable(iterable)\n",
        "    return execution_time\n",
        "\n",
        "def get_len_time_from_iterable(iterable, repeat=50):\n",
        "    execution_times = []\n",
        "    for _ in range(repeat):\n",
        "        start = time.time()\n",
        "        len(iterable)\n",
        "        end = time.time()\n",
        "        execution_time = end - start\n",
        "        execution_times.append(execution_time)\n",
        "    mean_execution_time = np.mean(execution_times)\n",
        "    return mean_execution_time\n",
        "\n",
        "n = [10**i for i in range(8)]\n",
        "t_range = [get_len_time_from_range(i) for i in n]\n",
        "t_list = [get_len_time_from_list(i) for i in n]\n",
        "t_set = [get_len_time_from_set(i) for i in n]\n",
        "t_tuple = [get_len_time_from_tuple(i) for i in n]\n",
        "\n",
        "fig, ax = plt.subplots()\n",
        "ax.plot(n, t_list, \"o-\", label=\"list\")\n",
        "ax.plot(n, t_range, \"o-\", label=\"range\")\n",
        "ax.plot(n, t_set, \"o-\", label=\"set\")\n",
        "ax.plot(n, t_tuple, \"o-\", label=\"tuple\")\n",
        "ax.set_xscale(\"log\")\n",
        "ax.set_yscale(\"log\")\n",
        "ax.set_xlabel(\"tamaño iterable\")\n",
        "ax.set_ylabel(\"tiempo (s)\")\n",
        "ax.set_title(\"Tiempo de cómputo longitud\")\n",
        "ax.grid(True)\n",
        "ax.legend()\n",
        "fig.show()"
      ],
      "metadata": {
        "colab": {
          "base_uri": "https://localhost:8080/",
          "height": 296
        },
        "id": "2Cgvuq356elZ",
        "outputId": "3dd7e8a9-699c-4f3c-a3c0-0b823dec57c5"
      },
      "execution_count": null,
      "outputs": [
        {
          "output_type": "display_data",
          "data": {
            "text/plain": [
              "<Figure size 432x288 with 1 Axes>"
            ],
            "image/png": "[encoded data removed]"
          },
          "metadata": {
            "image/png": {
              "width": 410,
              "height": 279
            },
            "needs_background": "light"
          }
        }
      ]
    },
    {
      "cell_type": "code",
      "source": [],
      "metadata": {
        "id": "WPUpEdGK9gDv"
      },
      "execution_count": null,
      "outputs": []
    }
  ],
  "metadata": {
    "colab": {
      "provenance": [],
      "toc_visible": true,
      "collapsed_sections": [
        "qqaRsi9QVzdr",
        "1x97zPysze8h",
        "m6Y293e3_5FC",
        "UYD6kWkQTZ05",
        "Z3bfeRslp-sv",
        "JtvMKh7a6IRe"
      ],
      "include_colab_link": true
    },
    "kernelspec": {
      "display_name": "Python 3.9.1 64-bit",
      "language": "python",
      "name": "python3"
    },
    "language_info": {
      "codemirror_mode": {
        "name": "ipython",
        "version": 3
      },
      "file_extension": ".py",
      "mimetype": "text/x-python",
      "name": "python",
      "nbconvert_exporter": "python",
      "pygments_lexer": "ipython3",
      "version": "3.9.1"
    },
    "orig_nbformat": 4,
    "vscode": {
      "interpreter": {
        "hash": "397704579725e15f5c7cb49fe5f0341eb7531c82d19f2c29d197e8b64ab5776b"
      }
    }
  },
  "nbformat": 4,
  "nbformat_minor": 0
}