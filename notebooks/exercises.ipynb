{
  "cells": [
    {
      "cell_type": "markdown",
      "metadata": {
        "id": "wDhfh5GiZEEO"
      },
      "source": [
        "# Ejercicios de Introducción a Python"
      ]
    },
    {
      "cell_type": "markdown",
      "metadata": {
        "id": "qzhMHBlxZEEQ"
      },
      "source": [
        ":::{exercise}\n",
        ":label: chapter1-merge\n",
        "\n",
        "Crea una función `merge` que acepte un número arbitrario de diccionarios y devuelva un diccionario cuyas claves sean las uniones de las claves de los diccionarios de entradas y los valores listas donde se concatenan los valores de los diccionarios originales. Por ejemplo, \n",
        "\n",
        "```\n",
        "dict1 = {\n",
        "    \"foo\": 1, \n",
        "    \"bar\": [3, 4], \n",
        "    \"baz\": None\n",
        "}\n",
        "\n",
        "dict2 = {\n",
        "    \"foo\": \"Hello world\", \n",
        "    5: \"five\"\n",
        "}\n",
        "\n",
        "dict3 = {\n",
        "    \"bar\": \"yes\"\n",
        "}\n",
        "\n",
        ">>> merge(dict1, dict2, dict3)\n",
        "\n",
        "{\n",
        "    'foo': [1, 'Hello world'], \n",
        "    'bar': [[3, 4], 'yes'], \n",
        "    'baz': [None], \n",
        "    5: ['five']\n",
        "}\n",
        "```\n",
        "\n",
        ":::"
      ]
    },
    {
      "cell_type": "code",
      "source": [
        "dict1 = {\n",
        "    \"foo\": 1, \n",
        "    \"bar\": [3, 4], \n",
        "    \"baz\": None\n",
        "}\n",
        "\n",
        "dict2 = {\n",
        "    \"foo\": \"Hello world\", \n",
        "    5: \"five\"\n",
        "}\n",
        "\n",
        "dict3 = {\n",
        "    \"bar\": \"yes\"\n",
        "}\n",
        "\n",
        "def merge(*arg):\n",
        "  res = dict()\n",
        "  for dicti in arg:\n",
        "    for k,i in dicti.items():\n",
        "      if k in res.keys():\n",
        "       res[k].append(i)\n",
        "      else: \n",
        "        res[k] = [i]\n",
        "  return res\n",
        "\n",
        "merge(dict1, dict2, dict3)"
      ],
      "metadata": {
        "id": "Fy6oQ54ndzJZ",
        "outputId": "59577bf6-260e-4505-f147-d4973e2c42c5",
        "colab": {
          "base_uri": "https://localhost:8080/"
        }
      },
      "execution_count": 14,
      "outputs": [
        {
          "output_type": "execute_result",
          "data": {
            "text/plain": [
              "{'foo': [1, 'Hello world'], 'bar': [[3, 4], 'yes'], 'baz': [None], 5: ['five']}"
            ]
          },
          "metadata": {},
          "execution_count": 14
        }
      ]
    },
    {
      "cell_type": "markdown",
      "source": [
        ":::{exercise}\n",
        ":label: chapter1-exercises-4\n",
        "\n",
        "Considera el siguiente ejemplo \n",
        "\n",
        "```\n",
        "a = [1, 2, [3, 4]]\n",
        "b = list(a)\n",
        "```\n",
        "\n",
        "¿Cambia algún elemento de la lista `a` tras ejecutar `b.append(100)`?¿Y tras ejecutar `b[2][0] = -100`? ¿Por qué?\n",
        "\n",
        ":::"
      ],
      "metadata": {
        "id": "LZJsa8ZR0zP3"
      }
    },
    {
      "cell_type": "code",
      "source": [
        "a = [1, 2, [3, 4]]\n",
        "b = list(a) # Te crea una lista a partir de un iterable, es igual que a\n",
        "\n",
        "b.append(100)\n",
        "\n",
        "print(a)\n",
        "\n",
        "# ¿Cambia algún elemento de la lista a tras ejecutar b.append(100)? NO\n",
        "\n",
        "# ¿Y tras ejecutar b[2][0] = -100? SI\n",
        "b[2][0] = -100\n",
        "print(a)\n",
        "\n",
        "# Cada elemento de la lista a, esta guardado en una dirección de memoria, \n",
        "# entonces eso sí cambia en ambos.\n",
        "\n",
        "# Para hacerlo bien habria que usar copy"
      ],
      "metadata": {
        "id": "UISRWlkXgmxy",
        "outputId": "982e0c86-776c-40ac-97d3-99f862fa300e",
        "colab": {
          "base_uri": "https://localhost:8080/"
        }
      },
      "execution_count": 27,
      "outputs": [
        {
          "output_type": "stream",
          "name": "stdout",
          "text": [
            "[1, 2, [3, 4]]\n",
            "[1, 2, [-100, 4]]\n"
          ]
        },
        {
          "output_type": "execute_result",
          "data": {
            "text/plain": [
              "False"
            ]
          },
          "metadata": {},
          "execution_count": 27
        }
      ]
    },
    {
      "cell_type": "markdown",
      "metadata": {
        "id": "0giHwgj_a9EB"
      },
      "source": [
        ":::{exercise}\n",
        ":label: chapter1-concat_to_str\n",
        "\n",
        "Crea una función `concat_to_str` que convierta una secuencia de objetos de Python en una cadena de transcripciones siguiendo las siguientes normas:\n",
        "\n",
        "- Si el objeto es un entero, entonces escribimos cada dígito en español separados por guiones. Si el entero es negativo, lo indicamos empezando la cadena por `menos`: \n",
        "    - `142` -> `uno-cuatro-dos`\n",
        "    -  `-12` -> `menos-uno-dos`\n",
        "- Si el objeto es un flotante, nos quedamos con la parte entera y hacemos lo mismo que en el caso anterior añadiendo `\"y decimales\"` al final. \n",
        "    - `12.324` -> `uno-dos y decimales`\n",
        "- Si el objeto es una cadena, lo dejamos como está. \n",
        "- Si el objeto es de otro tipo (incluido `bool`), añadimos `\"<OTRO>\"`. \n",
        "\n",
        "Las transcripciones deben estar separas por `\" | \"`. Por ejemplo, \n",
        "\n",
        "```\n",
        ">>> s = concat_to_str([12, -14.23, \"hello\", True, None, 10.1, 5])\n",
        "\"uno-dos | menos-uno-cuatro y decimales\" | hello | <OTRO> | <OTRO> | uno-cero y decimales | cinco\"\n",
        "```\n",
        "\n",
        ":::"
      ]
    },
    {
      "cell_type": "code",
      "source": [
        "mapping = {\n",
        "    \"-\": \"menos\",\n",
        "    \"1\": \"uno\",\n",
        "    \"2\": \"dos\",\n",
        "    \"3\": \"tres\",\n",
        "    \"4\": \"cuatro\",\n",
        "    \"5\": \"cinco\",\n",
        "    \"6\": \"seis\",\n",
        "    \"7\": \"siete\",\n",
        "    \"8\": \"ocho\",\n",
        "    \"9\": \"nueve\",\n",
        "    \"0\": \"cero\"\n",
        "}\n",
        "\n",
        "\n",
        "def traduce_entero(i):\n",
        "  digits = [ mapping[i_str] for i_str in str(i) ]\n",
        "  return \"-\".join(digits)\n",
        "\n",
        "\n",
        "def traduce(i):\n",
        "  if isinstance(i,int):\n",
        "    return traduce_entero(i)\n",
        "  elif isinstance(i, float):\n",
        "    return traduce_entero(int(i)) + \" y decimales\"\n",
        "  elif isinstance(i, str):\n",
        "    return i\n",
        "  elif isinstance(i, bool): \n",
        "    return \"<Otro>\"\n",
        "  \n",
        "\n",
        "\n",
        "def concat_to_str(s):\n",
        "  traducciones = [traduce(i) for i in s]\n",
        "  ret = \"|\".join(traducciones)\n",
        "  return ret\n",
        "\n",
        "\n",
        "\n",
        "s = concat_to_str([12,-14.23,\"hello\",True,None,10.1,5])\n",
        "print(s)\n",
        "\n",
        "t = concat_to_str([123,\"hola\"])\n",
        "print(t)\n",
        "\n",
        "\n"
      ],
      "metadata": {
        "id": "iMQi5g29hm2C",
        "outputId": "59ee61cd-b941-458a-c0d3-6c8fa6dd1d84",
        "colab": {
          "base_uri": "https://localhost:8080/",
          "height": 380
        }
      },
      "execution_count": 73,
      "outputs": [
        {
          "output_type": "error",
          "ename": "KeyError",
          "evalue": "ignored",
          "traceback": [
            "\u001b[0;31m---------------------------------------------------------------------------\u001b[0m",
            "\u001b[0;31mKeyError\u001b[0m                                  Traceback (most recent call last)",
            "\u001b[0;32m<ipython-input-73-a5beae3c3eb3>\u001b[0m in \u001b[0;36m<module>\u001b[0;34m\u001b[0m\n\u001b[1;32m     38\u001b[0m \u001b[0;34m\u001b[0m\u001b[0m\n\u001b[1;32m     39\u001b[0m \u001b[0;34m\u001b[0m\u001b[0m\n\u001b[0;32m---> 40\u001b[0;31m \u001b[0ms\u001b[0m \u001b[0;34m=\u001b[0m \u001b[0mconcat_to_str\u001b[0m\u001b[0;34m(\u001b[0m\u001b[0;34m[\u001b[0m\u001b[0;36m12\u001b[0m\u001b[0;34m,\u001b[0m\u001b[0;34m-\u001b[0m\u001b[0;36m14.23\u001b[0m\u001b[0;34m,\u001b[0m\u001b[0;34m\"hello\"\u001b[0m\u001b[0;34m,\u001b[0m\u001b[0;32mTrue\u001b[0m\u001b[0;34m,\u001b[0m\u001b[0;32mNone\u001b[0m\u001b[0;34m,\u001b[0m\u001b[0;36m10.1\u001b[0m\u001b[0;34m,\u001b[0m\u001b[0;36m5\u001b[0m\u001b[0;34m]\u001b[0m\u001b[0;34m)\u001b[0m\u001b[0;34m\u001b[0m\u001b[0;34m\u001b[0m\u001b[0m\n\u001b[0m\u001b[1;32m     41\u001b[0m \u001b[0mprint\u001b[0m\u001b[0;34m(\u001b[0m\u001b[0ms\u001b[0m\u001b[0;34m)\u001b[0m\u001b[0;34m\u001b[0m\u001b[0;34m\u001b[0m\u001b[0m\n\u001b[1;32m     42\u001b[0m \u001b[0;34m\u001b[0m\u001b[0m\n",
            "\u001b[0;32m<ipython-input-73-a5beae3c3eb3>\u001b[0m in \u001b[0;36mconcat_to_str\u001b[0;34m(s)\u001b[0m\n\u001b[1;32m     32\u001b[0m \u001b[0;34m\u001b[0m\u001b[0m\n\u001b[1;32m     33\u001b[0m \u001b[0;32mdef\u001b[0m \u001b[0mconcat_to_str\u001b[0m\u001b[0;34m(\u001b[0m\u001b[0ms\u001b[0m\u001b[0;34m)\u001b[0m\u001b[0;34m:\u001b[0m\u001b[0;34m\u001b[0m\u001b[0;34m\u001b[0m\u001b[0m\n\u001b[0;32m---> 34\u001b[0;31m   \u001b[0mtraducciones\u001b[0m \u001b[0;34m=\u001b[0m \u001b[0;34m[\u001b[0m\u001b[0mtraduce\u001b[0m\u001b[0;34m(\u001b[0m\u001b[0mi\u001b[0m\u001b[0;34m)\u001b[0m \u001b[0;32mfor\u001b[0m \u001b[0mi\u001b[0m \u001b[0;32min\u001b[0m \u001b[0ms\u001b[0m\u001b[0;34m]\u001b[0m\u001b[0;34m\u001b[0m\u001b[0;34m\u001b[0m\u001b[0m\n\u001b[0m\u001b[1;32m     35\u001b[0m   \u001b[0mret\u001b[0m \u001b[0;34m=\u001b[0m \u001b[0;34m\"|\"\u001b[0m\u001b[0;34m.\u001b[0m\u001b[0mjoin\u001b[0m\u001b[0;34m(\u001b[0m\u001b[0mtraducciones\u001b[0m\u001b[0;34m)\u001b[0m\u001b[0;34m\u001b[0m\u001b[0;34m\u001b[0m\u001b[0m\n\u001b[1;32m     36\u001b[0m   \u001b[0;32mreturn\u001b[0m \u001b[0mret\u001b[0m\u001b[0;34m\u001b[0m\u001b[0;34m\u001b[0m\u001b[0m\n",
            "\u001b[0;32m<ipython-input-73-a5beae3c3eb3>\u001b[0m in \u001b[0;36m<listcomp>\u001b[0;34m(.0)\u001b[0m\n\u001b[1;32m     32\u001b[0m \u001b[0;34m\u001b[0m\u001b[0m\n\u001b[1;32m     33\u001b[0m \u001b[0;32mdef\u001b[0m \u001b[0mconcat_to_str\u001b[0m\u001b[0;34m(\u001b[0m\u001b[0ms\u001b[0m\u001b[0;34m)\u001b[0m\u001b[0;34m:\u001b[0m\u001b[0;34m\u001b[0m\u001b[0;34m\u001b[0m\u001b[0m\n\u001b[0;32m---> 34\u001b[0;31m   \u001b[0mtraducciones\u001b[0m \u001b[0;34m=\u001b[0m \u001b[0;34m[\u001b[0m\u001b[0mtraduce\u001b[0m\u001b[0;34m(\u001b[0m\u001b[0mi\u001b[0m\u001b[0;34m)\u001b[0m \u001b[0;32mfor\u001b[0m \u001b[0mi\u001b[0m \u001b[0;32min\u001b[0m \u001b[0ms\u001b[0m\u001b[0;34m]\u001b[0m\u001b[0;34m\u001b[0m\u001b[0;34m\u001b[0m\u001b[0m\n\u001b[0m\u001b[1;32m     35\u001b[0m   \u001b[0mret\u001b[0m \u001b[0;34m=\u001b[0m \u001b[0;34m\"|\"\u001b[0m\u001b[0;34m.\u001b[0m\u001b[0mjoin\u001b[0m\u001b[0;34m(\u001b[0m\u001b[0mtraducciones\u001b[0m\u001b[0;34m)\u001b[0m\u001b[0;34m\u001b[0m\u001b[0;34m\u001b[0m\u001b[0m\n\u001b[1;32m     36\u001b[0m   \u001b[0;32mreturn\u001b[0m \u001b[0mret\u001b[0m\u001b[0;34m\u001b[0m\u001b[0;34m\u001b[0m\u001b[0m\n",
            "\u001b[0;32m<ipython-input-73-a5beae3c3eb3>\u001b[0m in \u001b[0;36mtraduce\u001b[0;34m(i)\u001b[0m\n\u001b[1;32m     21\u001b[0m \u001b[0;32mdef\u001b[0m \u001b[0mtraduce\u001b[0m\u001b[0;34m(\u001b[0m\u001b[0mi\u001b[0m\u001b[0;34m)\u001b[0m\u001b[0;34m:\u001b[0m\u001b[0;34m\u001b[0m\u001b[0;34m\u001b[0m\u001b[0m\n\u001b[1;32m     22\u001b[0m   \u001b[0;32mif\u001b[0m \u001b[0misinstance\u001b[0m\u001b[0;34m(\u001b[0m\u001b[0mi\u001b[0m\u001b[0;34m,\u001b[0m\u001b[0mint\u001b[0m\u001b[0;34m)\u001b[0m\u001b[0;34m:\u001b[0m\u001b[0;34m\u001b[0m\u001b[0;34m\u001b[0m\u001b[0m\n\u001b[0;32m---> 23\u001b[0;31m     \u001b[0;32mreturn\u001b[0m \u001b[0mtraduce_entero\u001b[0m\u001b[0;34m(\u001b[0m\u001b[0mi\u001b[0m\u001b[0;34m)\u001b[0m\u001b[0;34m\u001b[0m\u001b[0;34m\u001b[0m\u001b[0m\n\u001b[0m\u001b[1;32m     24\u001b[0m   \u001b[0;32melif\u001b[0m \u001b[0misinstance\u001b[0m\u001b[0;34m(\u001b[0m\u001b[0mi\u001b[0m\u001b[0;34m,\u001b[0m \u001b[0mfloat\u001b[0m\u001b[0;34m)\u001b[0m\u001b[0;34m:\u001b[0m\u001b[0;34m\u001b[0m\u001b[0;34m\u001b[0m\u001b[0m\n\u001b[1;32m     25\u001b[0m     \u001b[0;32mreturn\u001b[0m \u001b[0mtraduce_entero\u001b[0m\u001b[0;34m(\u001b[0m\u001b[0mint\u001b[0m\u001b[0;34m(\u001b[0m\u001b[0mi\u001b[0m\u001b[0;34m)\u001b[0m\u001b[0;34m)\u001b[0m \u001b[0;34m+\u001b[0m \u001b[0;34m\" y decimales\"\u001b[0m\u001b[0;34m\u001b[0m\u001b[0;34m\u001b[0m\u001b[0m\n",
            "\u001b[0;32m<ipython-input-73-a5beae3c3eb3>\u001b[0m in \u001b[0;36mtraduce_entero\u001b[0;34m(i)\u001b[0m\n\u001b[1;32m     15\u001b[0m \u001b[0;34m\u001b[0m\u001b[0m\n\u001b[1;32m     16\u001b[0m \u001b[0;32mdef\u001b[0m \u001b[0mtraduce_entero\u001b[0m\u001b[0;34m(\u001b[0m\u001b[0mi\u001b[0m\u001b[0;34m)\u001b[0m\u001b[0;34m:\u001b[0m\u001b[0;34m\u001b[0m\u001b[0;34m\u001b[0m\u001b[0m\n\u001b[0;32m---> 17\u001b[0;31m   \u001b[0mdigits\u001b[0m \u001b[0;34m=\u001b[0m \u001b[0;34m[\u001b[0m \u001b[0mmapping\u001b[0m\u001b[0;34m[\u001b[0m\u001b[0mi_str\u001b[0m\u001b[0;34m]\u001b[0m \u001b[0;32mfor\u001b[0m \u001b[0mi_str\u001b[0m \u001b[0;32min\u001b[0m \u001b[0mstr\u001b[0m\u001b[0;34m(\u001b[0m\u001b[0mi\u001b[0m\u001b[0;34m)\u001b[0m \u001b[0;34m]\u001b[0m\u001b[0;34m\u001b[0m\u001b[0;34m\u001b[0m\u001b[0m\n\u001b[0m\u001b[1;32m     18\u001b[0m   \u001b[0;32mreturn\u001b[0m \u001b[0;34m\"-\"\u001b[0m\u001b[0;34m.\u001b[0m\u001b[0mjoin\u001b[0m\u001b[0;34m(\u001b[0m\u001b[0mdigits\u001b[0m\u001b[0;34m)\u001b[0m\u001b[0;34m\u001b[0m\u001b[0;34m\u001b[0m\u001b[0m\n\u001b[1;32m     19\u001b[0m \u001b[0;34m\u001b[0m\u001b[0m\n",
            "\u001b[0;32m<ipython-input-73-a5beae3c3eb3>\u001b[0m in \u001b[0;36m<listcomp>\u001b[0;34m(.0)\u001b[0m\n\u001b[1;32m     15\u001b[0m \u001b[0;34m\u001b[0m\u001b[0m\n\u001b[1;32m     16\u001b[0m \u001b[0;32mdef\u001b[0m \u001b[0mtraduce_entero\u001b[0m\u001b[0;34m(\u001b[0m\u001b[0mi\u001b[0m\u001b[0;34m)\u001b[0m\u001b[0;34m:\u001b[0m\u001b[0;34m\u001b[0m\u001b[0;34m\u001b[0m\u001b[0m\n\u001b[0;32m---> 17\u001b[0;31m   \u001b[0mdigits\u001b[0m \u001b[0;34m=\u001b[0m \u001b[0;34m[\u001b[0m \u001b[0mmapping\u001b[0m\u001b[0;34m[\u001b[0m\u001b[0mi_str\u001b[0m\u001b[0;34m]\u001b[0m \u001b[0;32mfor\u001b[0m \u001b[0mi_str\u001b[0m \u001b[0;32min\u001b[0m \u001b[0mstr\u001b[0m\u001b[0;34m(\u001b[0m\u001b[0mi\u001b[0m\u001b[0;34m)\u001b[0m \u001b[0;34m]\u001b[0m\u001b[0;34m\u001b[0m\u001b[0;34m\u001b[0m\u001b[0m\n\u001b[0m\u001b[1;32m     18\u001b[0m   \u001b[0;32mreturn\u001b[0m \u001b[0;34m\"-\"\u001b[0m\u001b[0;34m.\u001b[0m\u001b[0mjoin\u001b[0m\u001b[0;34m(\u001b[0m\u001b[0mdigits\u001b[0m\u001b[0;34m)\u001b[0m\u001b[0;34m\u001b[0m\u001b[0;34m\u001b[0m\u001b[0m\n\u001b[1;32m     19\u001b[0m \u001b[0;34m\u001b[0m\u001b[0m\n",
            "\u001b[0;31mKeyError\u001b[0m: 'T'"
          ]
        }
      ]
    },
    {
      "cell_type": "markdown",
      "source": [
        ":::{exercise}\n",
        ":label: chapter1-books\n",
        "\n",
        "Visita [este sitio web](https://gutenberg.org/browse/scores/top#books-last30) y copia el enlace de descarga de un libro a tu elección en texto plano en una variable `url`. Por ejemplo, [este](https://gutenberg.org/cache/epub/1342/pg1342.txt) es el enlace de descarga de *Orgullo y Prejuicio*. \n",
        "\n",
        "Utiliza el módulo `requests` para realizar una petición http y guardar el cuerpo de la respuesta en una variable `book` tal y como se indica a continuación \n",
        "\n",
        "```\n",
        "import requests\n",
        "\n",
        "url = \"https://gutenberg.org/cache/epub/1342/pg1342.txt\"\n",
        "book_request = requests.get(url)\n",
        "book = book_request.text\n",
        "```\n",
        "\n",
        "Escribe una función `count_words` que devuelva un diccionario con las 50 palabras más frecuentes del libro que tenga como claves dichas palabras y como valor el número de apariciones. \n",
        "\n",
        ":::"
      ],
      "metadata": {
        "id": "WFflJSheU4-w"
      }
    },
    {
      "cell_type": "code",
      "source": [
        "import requests\n",
        "\n",
        "url = \"https://gutenberg.org/cache/epub/1342/pg1342.txt\"\n",
        "book_request = requests.get(url)\n",
        "book = book_request.text\n",
        "\n",
        "import re \n",
        "\n",
        "def count_words():\n",
        "  mas_escritas = dict()\n",
        "  palabras = re.split(pattern = r'[\\s_,\\r\\n\\r\\n\\\"-\\_]', string = book )\n",
        "  conjunto_palabras = set(palabras)\n",
        "  for i in conjunto_palabras: \n",
        "    mas_escritas[i] = palabras.count(i)\n",
        "  return mas_escritas\n",
        "\n",
        "d = count_words()\n"
      ],
      "metadata": {
        "id": "wbsFgi9MhnVb"
      },
      "execution_count": 79,
      "outputs": []
    },
    {
      "cell_type": "code",
      "source": [
        "print(sum(d.values())) # tiene 194494 palabras distintas el libro"
      ],
      "metadata": {
        "id": "P_DOF71V0x9v",
        "outputId": "14ee2282-2bec-4ddc-f642-491d25a60e10",
        "colab": {
          "base_uri": "https://localhost:8080/"
        }
      },
      "execution_count": 82,
      "outputs": [
        {
          "output_type": "stream",
          "name": "stdout",
          "text": [
            "194494\n"
          ]
        }
      ]
    },
    {
      "cell_type": "markdown",
      "source": [
        ":::{exercise}\n",
        ":label: chapter1-shopping-cart\n",
        "\n",
        "Crea una clase `CarritoCompra`, donde cada instancia almacenará dos listas de cadenas representando productos\n",
        "\n",
        "- una lista para productos que necesitamos, `necesitados`. \n",
        "- otra para productos ya comprados, `comprados`.\n",
        "\n",
        "Un producto no puede aparecer más de una vez en cada lista. \n",
        "\n",
        "Crea un método `__init__` que acepte una cadena o un iterable de cadenas representando productos que se añadirán a la lista de `necesitados` y además métodos para \n",
        "\n",
        "- `añade_necestiados`: añadir nuevos elementos necesitados al carrito,\n",
        "- `compra`: marcar un producto como comprado (pasa de necesitados a comprados),\n",
        "- `elimina_necesitados`, `elimina_comprados`: eliminar productos, ya sea de la lista de necesitados o comprados,\n",
        "- `lista_necestiados` y `lista_comprados`: listar los elementos necesitados o comprados en orden alfabético.\n",
        "\n",
        ":::"
      ],
      "metadata": {
        "id": "-xt1nDKN0wuN"
      }
    },
    {
      "cell_type": "code",
      "source": [],
      "metadata": {
        "id": "mb-sJM-fhnx8"
      },
      "execution_count": null,
      "outputs": []
    }
  ],
  "metadata": {
    "colab": {
      "provenance": []
    },
    "kernelspec": {
      "display_name": "Python 3.9.1 64-bit",
      "language": "python",
      "name": "python3"
    },
    "language_info": {
      "name": "python",
      "version": "3.9.1"
    },
    "orig_nbformat": 4,
    "vscode": {
      "interpreter": {
        "hash": "397704579725e15f5c7cb49fe5f0341eb7531c82d19f2c29d197e8b64ab5776b"
      }
    }
  },
  "nbformat": 4,
  "nbformat_minor": 0
}