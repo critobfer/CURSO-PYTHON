{
  "cells": [
    {
      "cell_type": "markdown",
      "metadata": {
        "id": "6Dhuw5qQvQ5u"
      },
      "source": [
        "# Clases \n",
        "\n",
        "Como ya hemos visto cuando hemos tratado con los predefinidas de Python (cadenas, enteros, booleanos etc), una clase es una forma de encapsular un conjunto de datos o **atributos** más una serie de **métodos** que nos permiten gestionar estos datos e interactuar con el resto del programa. \n",
        "\n",
        "Para definir una clase en Python, utilizamos el comando `class`. Por ejemplo, imaginemos que queremos trabajar con puntos del plano en nuestro programa. Sería interesante crear una clase como la siguiente"
      ]
    },
    {
      "cell_type": "code",
      "source": [
        "import math\n",
        "\n",
        "class Punto:\n",
        "    def __init__(self, x=0, y=0): # Lo que hace falta para crearlo\n",
        "    # self SIEMPRE EL PRIMER ARGUMENTO\n",
        "        self.x = x\n",
        "        self.y = y\n",
        "        \n",
        "    def distancia_al_origen(self):\n",
        "        dist = math.sqrt(self.x**2 + self.y**2)\n",
        "        return dist"
      ],
      "metadata": {
        "id": "9OV2GgVocU0D"
      },
      "execution_count": 1,
      "outputs": []
    },
    {
      "cell_type": "markdown",
      "source": [
        "Al definir una clase, estamos describiendo *una estructura o patrón* que queremos seguir a la hora de **crear instancias de la clase**. En la definición de la clase, `self` hace referencia al propio objeto. Siempre es el primer argumento de los métodos que se definen en la clase. Este primer argumento no se hará explícito cuando se use el método, sino que toma su valor del objeto sobre el que se evalúa el método."
      ],
      "metadata": {
        "id": "Clkjz2XbMljs"
      }
    },
    {
      "cell_type": "markdown",
      "source": [
        "El método `__init__` es un método especial que define **cómo se construyen inicialmente los objetos de la clase**. En el ejemplo anterior, el constructor recibe como argumentos de entrada dos valores `x`e `y` (por defecto con valor 0). Esos valores se almacenan respectivamente en los atributos de la clase `x` e `y` (que en este caso tienen el mismo nombre, pero no necesariamente tiene que ser así).\n",
        "\n",
        "> Siempre que creemos una instancia de la clase, llamaremos al método `__init__`."
      ],
      "metadata": {
        "id": "LY67GmrpM1RG"
      }
    },
    {
      "cell_type": "markdown",
      "source": [
        "Para crear *objetos* de un clase, simplemente se llama al nombre de la clase junto con los argumentos de entrada al constructor (excepto el primer argumento, `self`). Lo que sige define un objeto de la clase `Punto` y lo asigna a una variable `p`: "
      ],
      "metadata": {
        "id": "NPfYTGkLNOS_"
      }
    },
    {
      "cell_type": "code",
      "source": [
        "p = Punto(2,3)"
      ],
      "metadata": {
        "id": "q4tMNdwANZA-"
      },
      "execution_count": 3,
      "outputs": []
    },
    {
      "cell_type": "code",
      "source": [
        "print(p) # No me devuelve el valor\n",
        "# Atributos\n",
        "p.x\n",
        "p.y\n",
        "# Metodos \n",
        "p.distancia_al_origen()\n"
      ],
      "metadata": {
        "id": "NjMSVV8YB7kF",
        "outputId": "e34b637e-bd73-4308-9246-f1eae36f119c",
        "colab": {
          "base_uri": "https://localhost:8080/"
        }
      },
      "execution_count": 8,
      "outputs": [
        {
          "output_type": "stream",
          "name": "stdout",
          "text": [
            "<__main__.Punto object at 0x7f82278c3910>\n"
          ]
        },
        {
          "output_type": "execute_result",
          "data": {
            "text/plain": [
              "3.605551275463989"
            ]
          },
          "metadata": {},
          "execution_count": 8
        }
      ]
    },
    {
      "cell_type": "markdown",
      "source": [
        "En general, si tenemos un objeto `o` y uno de sus atributos `atr`, para acceder al valor de ese atributo en el objeto lo hacemos con la notación `o.atr`. Si se trata de un método `f`, se aplica con la notación `o.f(...)`, proporcionando los argumentos de entrada que se han definido para el método (excepto el primer argumento, que no se proporciona ya que es el propio objeto). También existen **funciones** como \n",
        "- `getattr` \n",
        "- `setattr`\n",
        "- `delattr`\n",
        "<br>\n",
        "(objeto, atributo)\n",
        "que aceptan como primer parámetro un objeto y como segundo una cadena con el nombre del atributo. "
      ],
      "metadata": {
        "id": "cQELWxGVNelV"
      }
    },
    {
      "cell_type": "code",
      "source": [
        "p.x"
      ],
      "metadata": {
        "colab": {
          "base_uri": "https://localhost:8080/"
        },
        "id": "X2trcTUwNr7l",
        "outputId": "4a3c7e13-161a-4e7b-9fa8-0635a38877b9"
      },
      "execution_count": null,
      "outputs": [
        {
          "output_type": "execute_result",
          "data": {
            "text/plain": [
              "2"
            ]
          },
          "metadata": {},
          "execution_count": 14
        }
      ]
    },
    {
      "cell_type": "code",
      "source": [
        "p.y"
      ],
      "metadata": {
        "colab": {
          "base_uri": "https://localhost:8080/"
        },
        "id": "cwJUz8rfNswn",
        "outputId": "7b82256b-3708-4fc0-a0bf-0eacd5534fac"
      },
      "execution_count": null,
      "outputs": [
        {
          "output_type": "execute_result",
          "data": {
            "text/plain": [
              "3"
            ]
          },
          "metadata": {},
          "execution_count": 15
        }
      ]
    },
    {
      "cell_type": "code",
      "source": [
        "p.distancia_al_origen()"
      ],
      "metadata": {
        "colab": {
          "base_uri": "https://localhost:8080/"
        },
        "id": "jZpfxSEiNtTu",
        "outputId": "0946f612-6867-45e5-a256-6fcb4fa5a5ea"
      },
      "execution_count": null,
      "outputs": [
        {
          "output_type": "execute_result",
          "data": {
            "text/plain": [
              "3.605551275463989"
            ]
          },
          "metadata": {},
          "execution_count": 16
        }
      ]
    },
    {
      "cell_type": "markdown",
      "source": [
        "La función `dir(obj)` nos devuelve el conjunto de métodos disponibles para un objeto."
      ],
      "metadata": {
        "id": "OmKcOjoaPfD7"
      }
    },
    {
      "cell_type": "code",
      "source": [
        "dir(p) #Metodos del objeto"
      ],
      "metadata": {
        "colab": {
          "base_uri": "https://localhost:8080/"
        },
        "id": "tAfzmBLOPySd",
        "outputId": "e40cee88-b084-42a1-a105-7f22c236bc08"
      },
      "execution_count": null,
      "outputs": [
        {
          "output_type": "execute_result",
          "data": {
            "text/plain": [
              "['__class__',\n",
              " '__delattr__',\n",
              " '__dict__',\n",
              " '__dir__',\n",
              " '__doc__',\n",
              " '__eq__',\n",
              " '__format__',\n",
              " '__ge__',\n",
              " '__getattribute__',\n",
              " '__gt__',\n",
              " '__hash__',\n",
              " '__init__',\n",
              " '__init_subclass__',\n",
              " '__le__',\n",
              " '__lt__',\n",
              " '__module__',\n",
              " '__ne__',\n",
              " '__new__',\n",
              " '__reduce__',\n",
              " '__reduce_ex__',\n",
              " '__repr__',\n",
              " '__setattr__',\n",
              " '__sizeof__',\n",
              " '__str__',\n",
              " '__subclasshook__',\n",
              " '__weakref__',\n",
              " 'distancia_al_origen',\n",
              " 'x',\n",
              " 'y']"
            ]
          },
          "metadata": {},
          "execution_count": 24
        }
      ]
    },
    {
      "cell_type": "markdown",
      "source": [
        ":::{exercise}\n",
        ":label: classes-example\n",
        "\n",
        "Crea una clase `Perro` que tenga los atributos `nombre` y `edad` y los siguientes métodos:\n",
        "- `ladra`: escribe un mensaje por pantalla.\n",
        "- `crece`: aumenta la edad del perro un uno.\n",
        "- `__str__`: para representar adecuadamente una instancia de `Perro` como cadena.\n",
        "\n",
        ":::"
      ],
      "metadata": {
        "id": "AvS1HFVOVtkw"
      }
    },
    {
      "cell_type": "code",
      "source": [
        "class Perro:\n",
        "  def __init__(self, nom=\"perro\", ed=1): \n",
        "        self.nombre = nom\n",
        "        self.edad = int(ed)\n",
        "        \n",
        "  def ladra(self):\n",
        "        print(\"Guau\") \n",
        "\n",
        "  def crece(self):\n",
        "        self.edad += 1\n",
        "\n",
        "  def __str__(self):\n",
        "        return f'Soy un Perro llamado {self.nombre} con {self.edad} años'\n",
        "\n",
        "Bob = Perro(\"Bob\",5)\n",
        "Bob.ladra()\n",
        "Bob.crece()\n",
        "print(Bob) # Bob.__str__() == Cuando lo printeo"
      ],
      "metadata": {
        "id": "9tyGVO3lCxUu",
        "outputId": "b9dc31dc-5868-4173-f41e-56e4d88be575",
        "colab": {
          "base_uri": "https://localhost:8080/"
        }
      },
      "execution_count": 17,
      "outputs": [
        {
          "output_type": "stream",
          "name": "stdout",
          "text": [
            "Guau\n",
            "Soy un Perro llamado Bob con 6 años\n"
          ]
        }
      ]
    },
    {
      "cell_type": "markdown",
      "source": [
        "---\n",
        "## Métodos especiales\n",
        "\n",
        "Hay otros **métodos especiales** que se pueden definir en todas las clases, y que tienen nombres especiales reservados. No es obligatorio definirlos, pero si se definen en la clase tienen una finalidad específica. Tienen sus nombres entre dobles guinoes bajos, como `__eq__`, que sirve para definir cómo se comparan dos objetos de la clase; o `__str__`, que sirve para proporcionar una representación de un objeto de la clase en forma de cadena."
      ],
      "metadata": {
        "id": "9JbEbzLONwJB"
      }
    },
    {
      "cell_type": "code",
      "source": [
        "class PuntoV2():\n",
        "    def __init__(self, x=0, y=0):\n",
        "        self.x = x\n",
        "        self.y = y\n",
        "        \n",
        "    def distancia_al_origen(self):\n",
        "        dist = math.sqrt(self.x**2 + self.y**2)\n",
        "        return dist\n",
        "\n",
        "    def __eq__(self,punto): \n",
        "      # queremos comparar un objeto con otro (no tiene que ser de la misma clase)\n",
        "        return self.x == punto.x and self.y == punto.y\n",
        "\n",
        "    def __str__(self): #Cuando hago Print\n",
        "        return f\"Punto(x = {self.x:.3f}, y = {self.y:.3f})\""
      ],
      "metadata": {
        "id": "ZyfPSQiNOdtZ"
      },
      "execution_count": 18,
      "outputs": []
    },
    {
      "cell_type": "code",
      "source": [
        "a = Punto(1, 1)\n",
        "p = PuntoV2(3, 4)\n",
        "q = PuntoV2(2, 5)\n",
        "r = PuntoV2(3, 4)"
      ],
      "metadata": {
        "id": "jP2dYeD3RnF8"
      },
      "execution_count": 19,
      "outputs": []
    },
    {
      "cell_type": "code",
      "source": [
        "print(a)"
      ],
      "metadata": {
        "colab": {
          "base_uri": "https://localhost:8080/"
        },
        "id": "0mBnJdsJSLlx",
        "outputId": "75beabd3-7830-40e1-9ff7-f8873804d534"
      },
      "execution_count": 20,
      "outputs": [
        {
          "output_type": "stream",
          "name": "stdout",
          "text": [
            "<__main__.Punto object at 0x7f8227debfd0>\n"
          ]
        }
      ]
    },
    {
      "cell_type": "code",
      "source": [
        "print(p)"
      ],
      "metadata": {
        "colab": {
          "base_uri": "https://localhost:8080/"
        },
        "id": "Jm65X90iR-ho",
        "outputId": "e55714e8-bdd6-493a-d3b9-bdc46ceee51f"
      },
      "execution_count": 21,
      "outputs": [
        {
          "output_type": "stream",
          "name": "stdout",
          "text": [
            "Punto(x = 3.000, y = 4.000)\n"
          ]
        }
      ]
    },
    {
      "cell_type": "code",
      "source": [
        "p == q"
      ],
      "metadata": {
        "colab": {
          "base_uri": "https://localhost:8080/"
        },
        "id": "rYVGykj5RqBZ",
        "outputId": "18550ac9-e1b7-496f-d417-58816c43e70d"
      },
      "execution_count": 22,
      "outputs": [
        {
          "output_type": "execute_result",
          "data": {
            "text/plain": [
              "False"
            ]
          },
          "metadata": {},
          "execution_count": 22
        }
      ]
    },
    {
      "cell_type": "code",
      "source": [
        "p == r # Son iguales"
      ],
      "metadata": {
        "colab": {
          "base_uri": "https://localhost:8080/"
        },
        "id": "aMibGfQgR5OD",
        "outputId": "c56d2e68-a920-47df-a951-1d654c321223"
      },
      "execution_count": 23,
      "outputs": [
        {
          "output_type": "execute_result",
          "data": {
            "text/plain": [
              "True"
            ]
          },
          "metadata": {},
          "execution_count": 23
        }
      ]
    },
    {
      "cell_type": "code",
      "source": [
        "p is r"
      ],
      "metadata": {
        "id": "06Yon2B3KsF5",
        "outputId": "a73800be-5c0b-42b6-f5fe-e0498eca1e70",
        "colab": {
          "base_uri": "https://localhost:8080/"
        }
      },
      "execution_count": 24,
      "outputs": [
        {
          "output_type": "execute_result",
          "data": {
            "text/plain": [
              "False"
            ]
          },
          "metadata": {},
          "execution_count": 24
        }
      ]
    },
    {
      "cell_type": "markdown",
      "source": [
        ":::{exercise}\n",
        ":label: classes-point\n",
        "\n",
        "Crea la clase `PointV3` copiando el código de `PointV2` y añadiendo el método especial `__add__` que nos permita sumar puntos del plano. Añade otro método que incluya un parámetro `p` para calcular la [norma p](https://en.wikipedia.org/wiki/Norm_(mathematics)#p-norm) de un punto. Crea otro método `dot` que implemente el producto escalar de los vectores correspondientes.\n",
        "\n",
        ":::"
      ],
      "metadata": {
        "id": "msITaDPbR55N"
      }
    },
    {
      "cell_type": "code",
      "source": [
        "from posixpath import normcase\n",
        "class PuntoV3():\n",
        "    def __init__(self, x=0, y=0):\n",
        "        self.x = x\n",
        "        self.y = y\n",
        "        \n",
        "    def distancia_al_origen(self):\n",
        "        dist = math.sqrt(self.x**2 + self.y**2)\n",
        "        return dist\n",
        "    \n",
        "    def dot(self,a):\n",
        "        dot = self.x*a.x+self.y*a.y\n",
        "        return dot\n",
        "        \n",
        "\n",
        "    def norma(self,p):\n",
        "        norm = (self.x**p + self.y**p)**(1/p)\n",
        "        return norm\n",
        "\n",
        "    def __eq__(self,punto): \n",
        "      # queremos comparar un objeto con otro (no tiene que ser de la misma clase)\n",
        "        return self.x == punto.x and self.y == punto.y\n",
        "\n",
        "    def __str__(self): #Cuando hago Print\n",
        "        return f\"Punto(x = {self.x:.3f}, y = {self.y:.3f})\"\n",
        "\n",
        "    def __add__(self,a): #Cuando hago Print\n",
        "        if not isinstance(a,PuntoV3):\n",
        "           print( \"Solo se pueden sumar puntos\")\n",
        "        else:\n",
        "          return PuntoV3((self.x+a.x),(self.y+a.y))\n",
        "\n"
      ],
      "metadata": {
        "id": "jlWpHrGyKmP7"
      },
      "execution_count": 37,
      "outputs": []
    },
    {
      "cell_type": "code",
      "source": [
        "r = PuntoV3(3, 4)\n",
        "p = PuntoV3(1, 2)\n",
        "sum = r+p\n",
        "print(sum)\n",
        "r.dot(p)\n",
        "sum2 = r+Bob\n",
        "print(sum2)\n"
      ],
      "metadata": {
        "id": "W2y7hHtnLg1V",
        "outputId": "25609d23-1170-496c-9181-e0efe1b20e0e",
        "colab": {
          "base_uri": "https://localhost:8080/"
        }
      },
      "execution_count": 40,
      "outputs": [
        {
          "output_type": "stream",
          "name": "stdout",
          "text": [
            "Punto(x = 4.000, y = 6.000)\n",
            "Solo se pueden sumar puntos\n"
          ]
        }
      ]
    },
    {
      "cell_type": "markdown",
      "source": [
        "## Subclases y herencia\n",
        "\n"
      ],
      "metadata": {
        "id": "senrbd33WXWs"
      }
    },
    {
      "cell_type": "markdown",
      "source": [
        "La **herencia** es un mecanismo para crear nuevas clases que especializan o modifican el comportamiento de una clase ya existente. Cuando una clase se crea vía herencia, hereda los atributos y los métodos de la clase base, con la posibilidad de ampliarlos, modificarlos o redefinirlos. "
      ],
      "metadata": {
        "id": "iOvDTcmNXEpD"
      }
    },
    {
      "cell_type": "markdown",
      "source": [
        "La herencia se especifica incluyendo entre parántesis las clases base de las que queremos heredar en el enunciado `class`. Por ejemplo podemos crear una clase `Circulo` que herede de punto "
      ],
      "metadata": {
        "id": "q5H0wcr8pmOt"
      }
    },
    {
      "cell_type": "code",
      "source": [
        "class Circulo(PuntoV2):\n",
        "    def __init__(self, radio=1, x=0, y=0):\n",
        "        super().__init__(x, y)\n",
        "        self.radio = radio\n",
        "\n",
        "    def distancia_al_origen(self):\n",
        "        dist = math.sqrt(self.x**2 + self.y**2) - self.radio\n",
        "        return dist\n",
        "\n",
        "    def calcula_area(self):\n",
        "        area = 2 * math.pi * self.radio**2\n",
        "        return area\n",
        "\n",
        "    def __eq__(self, circulo):\n",
        "        son_iguales = (\n",
        "            self.x == circulo.x and \n",
        "            self.y == circulo.y and \n",
        "            self.radio == self.radio\n",
        "        )\n",
        "        return son_iguales\n",
        "\n",
        "    def __str__(self):\n",
        "        return f\"Circulo (x = {self.x:.3f}, y = {self.y:.3f}, radio = {self.radio:.3})\""
      ],
      "metadata": {
        "id": "1LHw-ysHp6JS"
      },
      "execution_count": null,
      "outputs": []
    },
    {
      "cell_type": "markdown",
      "source": [
        "En este ejemplo, estamos accediendo a los métodos de la clase base mediante la función `super()`, en particular estamos creando los atributos correspondiente a la clase `PuntoV2` más el nuevo atributo `radio`. También estamos redefiniendo los métodos `distancia_al_origen`, `__eq__` y `__str__`. Finalmente, añadimos un nuevo método `calcula_area`, que no pertenece a la clase `Punto`. "
      ],
      "metadata": {
        "id": "Baivxh5Ar6gi"
      }
    },
    {
      "cell_type": "markdown",
      "source": [
        ":::{exercise}\n",
        ":label: chapter1-classes-back-account\n",
        "\n",
        "Escribe una clase `Cuenta` que represente una cuenta bancaria. Dicha clase tendrá los siguientes atributos\n",
        "\n",
        "- `nombre`\n",
        "- `deposito`\n",
        "\n",
        "Incluye métodos para depositar y retirar cantidades. Incluye otro método `retira` para retirar todo el dinero de la cuenta.\n",
        "\n",
        "Escribe una clase hija `CuentaInversion` con un atributo más llamado `riesgo` en la que el método `retira` multiplica el depósito por un número tomado de una distribución normal de media uno y desviación estándar `riesgo`.\n",
        "\n",
        ":::"
      ],
      "metadata": {
        "id": "xM909soLJXQp"
      }
    }
  ],
  "metadata": {
    "kernelspec": {
      "display_name": "Python 3.9.1 64-bit",
      "language": "python",
      "name": "python3"
    },
    "language_info": {
      "name": "python",
      "version": "3.9.1"
    },
    "orig_nbformat": 4,
    "vscode": {
      "interpreter": {
        "hash": "397704579725e15f5c7cb49fe5f0341eb7531c82d19f2c29d197e8b64ab5776b"
      }
    },
    "colab": {
      "provenance": []
    }
  },
  "nbformat": 4,
  "nbformat_minor": 0
}